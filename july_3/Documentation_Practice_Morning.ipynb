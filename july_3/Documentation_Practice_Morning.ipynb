{
  "cells": [
    {
      "cell_type": "markdown",
      "metadata": {
        "id": "BT_QqpneLNwY"
      },
      "source": [
        "## Documentation Exercise\n",
        "\n",
        "Below is a function **without any docstring or comments**. Your task is to:\n",
        "\n",
        "1. Correct the syntax. \n",
        "2. Read and understand what it does (you'll have to try to break it to understand what valueErrors are possible).  \n",
        "3. Add a professional-grade docstring.  \n",
        "4. Sprinkle inline comments where needed for clarity.  \n",
        "5. Optionally include type hints and error handling.\n",
        "\n",
        "\n"
      ]
    },
    {
      "cell_type": "code",
      "execution_count": null,
      "metadata": {
        "id": "BeOQ003zLJUP"
      },
      "outputs": [
        {
          "name": "stdout",
          "output_type": "stream",
          "text": [
            "{'count': 5, 'sum': 15, 'mean': 3.0, 'above_threshold': [3, 4, 5]}\n"
          ]
        }
      ],
      "source": [
        "def summarize_data(values, threshold=0):\n",
        "    \"\"\"\n",
        "    function to summarize a list of values with a threshold\n",
        "    \n",
        "    parameters:\n",
        "    values: list of numerical values\n",
        "    threshold: numerical value to filter the list \n",
        "\n",
        "    returns:\n",
        "    A dictionary with the count, sum, mean of the values, and a list of values that are above the threshold\n",
        "\n",
        "    raises:\n",
        "    ValueError: if values is not a list or if threshold is not a number\n",
        "\n",
        "    \"\"\"\n",
        "    if not isinstance(values, list):\n",
        "        raise ValueError(\"values must be a list\")\n",
        "        # Check if all elements in values are numbers\n",
        "    if not all(isinstance(v, (int, float)) for v in values):\n",
        "        raise ValueError(\"All elements in values must be numbers\")\n",
        "        # Check if threshold is a number\n",
        "    if not isinstance(threshold, (int, float)):\n",
        "        raise ValueError(\"threshold must be a number\")\n",
        "        # If values is empty, return a dictionary with count, sum, mean as 0 and an empty list for above_threshold\n",
        "    if len(values) == 0:\n",
        "        # return a dictionary with count, sum, mean as 0 and an empty list for above_threshold\n",
        "        return {\n",
        "            'count': 0,\n",
        "            'sum': 0,\n",
        "            'mean': 0,\n",
        "            'above_threshold': []\n",
        "        }\n",
        "    sum_values = 0\n",
        "    count = 0\n",
        "    above = []\n",
        "    for v in values:\n",
        "        # iterate through the values in the list\n",
        "        sum_values += v\n",
        "        count += 1\n",
        "        if v > threshold:\n",
        "            above.append(v)\n",
        "    mean = sum_values / count\n",
        "    result = {\n",
        "        'count': count,\n",
        "        'sum': sum_values,\n",
        "        'mean': mean,\n",
        "        'above_threshold': above\n",
        "    } # create a dictionary with the count, sum, mean and above_threshold\n",
        "    return result\n",
        "    #return the result dictionary\n",
        "\n",
        "# Example usage\n",
        "print(summarize_data([1, 2, 3, 4, 5], threshold=2))"
      ]
    },
    {
      "cell_type": "markdown",
      "metadata": {
        "id": "UZSVyp03Lrpu"
      },
      "source": [
        "## Example"
      ]
    },
    {
      "cell_type": "code",
      "execution_count": null,
      "metadata": {
        "id": "_kU6N2DJLK4w"
      },
      "outputs": [],
      "source": [
        "from typing import Sequence\n",
        "\n",
        "# Here, Sequence[float] is just a static type hint: it tells IDEs\n",
        "# that `values` should be an ordered, indexable collection of floats (like a list or tuple),\n",
        "# but Python itself won’t enforce it at runtime.\n",
        "\n",
        "\n",
        "def calculate_mean(values: Sequence[float]) -> float:\n",
        "    \"\"\"\n",
        "    Compute the arithmetic mean of a sequence of numbers.\n",
        "\n",
        "    Parameters\n",
        "    ----------\n",
        "    values : Sequence[float]\n",
        "        A non-empty sequence (e.g., list, tuple, or 1D array) of numeric data.\n",
        "\n",
        "    Returns\n",
        "    -------\n",
        "    float\n",
        "        The arithmetic mean: sum(values) / len(values).\n",
        "\n",
        "    Raises\n",
        "    ------\n",
        "    ValueError\n",
        "        If `values` is empty.\n",
        "\n",
        "    Examples\n",
        "    --------\n",
        "    >>> calculate_mean([1, 2, 3, 4])\n",
        "    2.5\n",
        "    >>> calculate_mean((10.0, -2.0, 4.0))\n",
        "    4.0\n",
        "    >>> calculate_mean([])  # empty sequence\n",
        "    Traceback (most recent call last):\n",
        "        ...\n",
        "    ValueError: 'values' must contain at least one element\n",
        "    \"\"\"\n",
        "    count = len(values)\n",
        "    if count == 0:\n",
        "        raise ValueError(\"'values' must contain at least one element\")\n",
        "    total = sum(values)\n",
        "    return total / count\n",
        "\n"
      ]
    },
    {
      "cell_type": "code",
      "execution_count": null,
      "metadata": {
        "id": "mQ6PFYcOLus5"
      },
      "outputs": [],
      "source": []
    }
  ],
  "metadata": {
    "colab": {
      "provenance": []
    },
    "kernelspec": {
      "display_name": "lab_3",
      "language": "python",
      "name": "python3"
    },
    "language_info": {
      "codemirror_mode": {
        "name": "ipython",
        "version": 3
      },
      "file_extension": ".py",
      "mimetype": "text/x-python",
      "name": "python",
      "nbconvert_exporter": "python",
      "pygments_lexer": "ipython3",
      "version": "3.13.5"
    }
  },
  "nbformat": 4,
  "nbformat_minor": 0
}
