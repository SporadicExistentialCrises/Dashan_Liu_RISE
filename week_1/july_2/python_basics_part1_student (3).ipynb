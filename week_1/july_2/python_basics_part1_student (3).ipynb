{
  "cells": [
    {
      "cell_type": "markdown",
      "id": "4fbefc2b",
      "metadata": {
        "id": "4fbefc2b"
      },
      "source": [
        "# Python Basics — Part I  \n",
        "### *Student Practice Notebook*"
      ]
    },
    {
      "cell_type": "markdown",
      "id": "122820cf",
      "metadata": {
        "id": "122820cf"
      },
      "source": [
        "After today’s live lesson, use this notebook to **practice** the core concepts.\n",
        "\n",
        "*Work through each section in order. Complete the exercises where you see **TODO** markers.*  \n"
      ]
    },
    {
      "cell_type": "markdown",
      "id": "37c83d53",
      "metadata": {
        "id": "37c83d53"
      },
      "source": [
        "**Covered Concepts**\n",
        "\n",
        "1. Data types & variables  \n",
        "2. Operators & expressions  \n",
        "3. Strings  \n",
        "4. Lists (plus tuples & sets)  \n",
        "5. Dictionaries  \n",
        "6. Control flow (if/else, loops)  \n",
        "7. Applying basics to small datasets  \n"
      ]
    },
    {
      "cell_type": "markdown",
      "id": "09aed65e",
      "metadata": {
        "id": "09aed65e"
      },
      "source": [
        "## 1  Data Types & Variables"
      ]
    },
    {
      "cell_type": "markdown",
      "id": "6c227e02",
      "metadata": {
        "id": "6c227e02"
      },
      "source": [
        "Below are some examples we discussed. Run each cell, then modify the code (values, operators) and re‑run to observe changes."
      ]
    },
    {
      "cell_type": "code",
      "execution_count": null,
      "id": "71037579",
      "metadata": {
        "id": "71037579"
      },
      "outputs": [],
      "source": [
        "# Try changing these variables and explore type()\n",
        "an_int = 42\n",
        "a_float = 3.14159\n",
        "a_string = \"Data Science\"\n",
        "is_data_fun = True\n",
        "\n",
        "print(type(an_int), an_int)\n",
        "print(type(a_float), a_float)\n",
        "print(type(a_string), a_string)\n",
        "print(type(is_data_fun), is_data_fun)\n"
      ]
    },
    {
      "cell_type": "markdown",
      "id": "99a05ffe",
      "metadata": {
        "id": "99a05ffe"
      },
      "source": [
        "## 2  Operators & Expressions"
      ]
    },
    {
      "cell_type": "code",
      "execution_count": null,
      "id": "a7636f44",
      "metadata": {
        "id": "a7636f44"
      },
      "outputs": [],
      "source": [
        "# Experiment with arithmetic, comparison, logical operators\n",
        "a, b = 7, 3\n",
        "print(\"a + b =\", a + b)\n",
        "print(\"a ** b =\", a ** b)\n",
        "print(\"a > b and b > 0\", (a > b) and (b > 0))\n"
      ]
    },
    {
      "cell_type": "markdown",
      "id": "cc270c94",
      "metadata": {
        "id": "cc270c94"
      },
      "source": [
        "### Exercise 1 — Even & Range Test  \n",
        "Write code that tests whether a number `n` is **even** *and* between 10 and 30 (inclusive).  \n",
        "Store the boolean result in `is_valid` and print it.\n",
        "\n",
        "**TODO:** complete the cell.\n"
      ]
    },
    {
      "cell_type": "code",
      "execution_count": 1,
      "id": "d36975ec",
      "metadata": {
        "id": "d36975ec"
      },
      "outputs": [
        {
          "name": "stdout",
          "output_type": "stream",
          "text": [
            "True\n",
            "False\n",
            "True\n",
            "False\n",
            "True\n",
            "False\n",
            "True\n",
            "False\n",
            "True\n",
            "False\n",
            "True\n",
            "False\n",
            "True\n",
            "False\n",
            "True\n",
            "False\n",
            "True\n",
            "False\n",
            "True\n",
            "False\n",
            "True\n"
          ]
        }
      ],
      "source": [
        "# TODO: even & range test\n",
        "for n in range(10,31):\n",
        "    if n % 2 == 0:\n",
        "        is_valid = True\n",
        "    else:\n",
        "        is_valid = False\n",
        "    print(is_valid)"
      ]
    },
    {
      "cell_type": "markdown",
      "id": "10c101ad",
      "metadata": {
        "id": "10c101ad"
      },
      "source": [
        "### Exercise 2 — BMI Calculator  \n",
        "Create two variables:\n",
        "\n",
        "* `height_cm`- your height in centimeters  \n",
        "* `weight_kg`- your weight in kilograms  \n",
        "\n",
        "Then compute and print your **Body Mass Index (BMI)** with  \n",
        "\n",
        "\n",
        "$$\\text{BMI} = \\frac{\\text{weight_kg}}{(\\text{height_cm}/100)^2}$$\n",
        "\n",
        "\n",
        "**TODO:** edit the cell below.\n"
      ]
    },
    {
      "cell_type": "code",
      "execution_count": 2,
      "id": "7de7617e",
      "metadata": {
        "id": "7de7617e"
      },
      "outputs": [
        {
          "name": "stdout",
          "output_type": "stream",
          "text": [
            "BMI: 20.914713541666664\n"
          ]
        }
      ],
      "source": [
        "# TODO: calculate BMI\n",
        "height_cm = 192.\n",
        "weight_kg = 77.1\n",
        "bmi = weight_kg / (height_cm / 100) ** 2\n",
        "print(\"BMI:\", bmi)\n"
      ]
    },
    {
      "cell_type": "markdown",
      "id": "KR2WpvVBasPc",
      "metadata": {
        "id": "KR2WpvVBasPc"
      },
      "source": [
        "**TODO:** edit the cell below. Can you \"wrap\" BMI in a function? Call the function \"BMI_calculator\" (link: https://www.w3schools.com/python/python_functions.asp)"
      ]
    },
    {
      "cell_type": "code",
      "execution_count": 3,
      "id": "gCbbUv6abQWz",
      "metadata": {
        "id": "gCbbUv6abQWz"
      },
      "outputs": [
        {
          "name": "stdout",
          "output_type": "stream",
          "text": [
            "20.914713541666664\n"
          ]
        }
      ],
      "source": [
        "def BMI_calculator(height_cm, weight_kg):\n",
        "    return weight_kg / (height_cm / 100) ** 2\n",
        "print(BMI_calculator(192,77.1))"
      ]
    },
    {
      "cell_type": "markdown",
      "id": "b38ad0f9",
      "metadata": {
        "id": "b38ad0f9"
      },
      "source": [
        "## 3 Strings"
      ]
    },
    {
      "cell_type": "code",
      "execution_count": 4,
      "id": "8772af4c",
      "metadata": {
        "id": "8772af4c"
      },
      "outputs": [
        {
          "name": "stdout",
          "output_type": "stream",
          "text": [
            "DATA SCIENCE\n",
            "ecneicS ataD\n",
            "['Data', 'Science']\n"
          ]
        }
      ],
      "source": [
        "msg = \"Data Science\"\n",
        "print(msg.upper())\n",
        "print(msg[::-1])      # reverse\n",
        "print(msg.split())    # split on whitespace\n"
      ]
    },
    {
      "cell_type": "markdown",
      "id": "ar3HDZ-xLryP",
      "metadata": {
        "id": "ar3HDZ-xLryP"
      },
      "source": [
        "Create an f-string that reads \"Hello, <your name>!\" below Link: https://www.w3schools.com/python/python_string_formatting.asp"
      ]
    },
    {
      "cell_type": "code",
      "execution_count": 5,
      "id": "0cc7bb18",
      "metadata": {
        "id": "0cc7bb18"
      },
      "outputs": [
        {
          "name": "stdout",
          "output_type": "stream",
          "text": [
            "Hello, Data Scientist!\n"
          ]
        }
      ],
      "source": [
        "# TODO: greeting f-string\n",
        "name = \"Data Scientist\"\n",
        "print(f\"Hello, {name}!\")\n"
      ]
    },
    {
      "cell_type": "markdown",
      "id": "f6b65fd3",
      "metadata": {
        "id": "f6b65fd3"
      },
      "source": [
        "## 4  Lists"
      ]
    },
    {
      "cell_type": "markdown",
      "id": "TIlSSfHpL2s5",
      "metadata": {
        "id": "TIlSSfHpL2s5"
      },
      "source": [
        "W3schools: https://www.w3schools.com/python/python_lists.asp"
      ]
    },
    {
      "cell_type": "code",
      "execution_count": null,
      "id": "f85a6e8a",
      "metadata": {
        "id": "f85a6e8a"
      },
      "outputs": [],
      "source": [
        "temperatures = [21.0, 23.5, 19.8]\n",
        "temperatures.append(22.3)\n",
        "print(temperatures)\n",
        "\n",
        "# Slice the list to get the last two readings\n",
        "last_two = temperatures[-2:]\n",
        "last_two\n"
      ]
    },
    {
      "cell_type": "markdown",
      "id": "6f9f757b",
      "metadata": {
        "id": "6f9f757b"
      },
      "source": [
        "### Exercise 3 — Price Analysis  \n",
        "Given `prices = [10.5, 8.0, 12.3, 9.99]`:\n",
        "\n",
        "1. Compute and print the **average price**.  \n",
        "2. Create a new list `under_10` with only prices < 10 (use a list comprehension).\n",
        "\n",
        "**TODO:** implement below.\n"
      ]
    },
    {
      "cell_type": "code",
      "execution_count": 6,
      "id": "a368919b",
      "metadata": {
        "id": "a368919b"
      },
      "outputs": [
        {
          "name": "stdout",
          "output_type": "stream",
          "text": [
            "Average: 10.1975\n",
            "Under $10: [8.0, 9.99]\n"
          ]
        }
      ],
      "source": [
        "# TODO: price analysis\n",
        "import statistics\n",
        "\n",
        "prices = [10.5, 8.0, 12.3, 9.99]\n",
        "avg_price = statistics.mean(prices)\n",
        "under_10 = [price for price in prices if price < 10]\n",
        "print(\"Average:\", avg_price)\n",
        "print(\"Under $10:\", under_10)\n"
      ]
    },
    {
      "cell_type": "markdown",
      "id": "ee7e415b",
      "metadata": {
        "id": "ee7e415b"
      },
      "source": [
        "### Tuples & Sets — Quick Practice"
      ]
    },
    {
      "cell_type": "markdown",
      "id": "Lt4HxcEtMFAC",
      "metadata": {
        "id": "Lt4HxcEtMFAC"
      },
      "source": [
        "Read more about Tuples here: https://www.w3schools.com/python/python_tuples.asp"
      ]
    },
    {
      "cell_type": "code",
      "execution_count": 7,
      "id": "0731bfdc",
      "metadata": {
        "id": "0731bfdc"
      },
      "outputs": [
        {
          "data": {
            "text/plain": [
              "({(37.7749, -122.4194)}, {'eggs', 'ham', 'spam'})"
            ]
          },
          "execution_count": 7,
          "metadata": {},
          "output_type": "execute_result"
        }
      ],
      "source": [
        "# Create a tuple 'coords' (latitude, longitude) and a set of unique words from a sentence\n",
        "coords = {(37.7749, -122.4194)} \n",
        "sentence = \"spam spam eggs ham\"\n",
        "unique_words = set(sentence.split())\n",
        "coords, unique_words\n"
      ]
    },
    {
      "cell_type": "markdown",
      "id": "SeT5XF50MOHC",
      "metadata": {
        "id": "SeT5XF50MOHC"
      },
      "source": [
        "#### What is a tuple? Compare its function to a python list and explain why/when you might want to use a list or a tuple."
      ]
    },
    {
      "cell_type": "markdown",
      "id": "e0092801",
      "metadata": {},
      "source": [
        "Tuples are like lists in the sense that they store multiple values. But tuples are immutable, meaning once it is created, nothing can be changed. So, they might be useful when you want to represent a set of constants that you know for a fact will not change, such as a set of coordinates or something like that."
      ]
    },
    {
      "cell_type": "markdown",
      "id": "24547688",
      "metadata": {
        "id": "24547688"
      },
      "source": [
        "## 5  Dictionaries"
      ]
    },
    {
      "cell_type": "markdown",
      "id": "FzfWBfsIMZvc",
      "metadata": {
        "id": "FzfWBfsIMZvc"
      },
      "source": [
        "Read more about dictionaries here: https://www.w3schools.com/python/python_dictionaries.asp"
      ]
    },
    {
      "cell_type": "code",
      "execution_count": 8,
      "id": "8fafee7c",
      "metadata": {
        "id": "8fafee7c"
      },
      "outputs": [
        {
          "name": "stdout",
          "output_type": "stream",
          "text": [
            "Boston: 654,776 residents\n",
            "NYC: 8,336,817 residents\n",
            "Chicago: 2,705,994 residents\n"
          ]
        }
      ],
      "source": [
        "population = {\"Boston\": 654776, \"NYC\": 8336817}\n",
        "population[\"Chicago\"] = 2705994\n",
        "\n",
        "for city, pop in population.items():\n",
        "    print(f\"{city}: {pop:,} residents\")\n"
      ]
    },
    {
      "cell_type": "markdown",
      "id": "d6a425bc",
      "metadata": {
        "id": "d6a425bc"
      },
      "source": [
        "### Exercise 4 — Word Frequency  \n",
        "Given `text = \"the quick brown fox jumps over the lazy dog the the\"`:\n",
        "\n",
        "* Build a dictionary `freq` mapping each word to its count (ignore case).  \n",
        "* Print the three most common words and counts.\n",
        "\n",
        "*(Hint: loop over `text.split()` and use `dict.get`)*\n",
        "\n",
        "**TODO:** write your solution.\n"
      ]
    },
    {
      "cell_type": "code",
      "execution_count": 10,
      "id": "55a0c5b2",
      "metadata": {
        "id": "55a0c5b2"
      },
      "outputs": [
        {
          "name": "stdout",
          "output_type": "stream",
          "text": [
            "Most common word: the with 4 occurrences\n",
            "Second most common word: quick with 1 occurrences\n",
            "Third most common word: brown with 1 occurrences\n"
          ]
        }
      ],
      "source": [
        "# TODO: word frequency\n",
        "text = \"the quick brown fox jumps over the lazy dog the the\"\n",
        "freq = {}\n",
        "for word in text.split():\n",
        "    freq[word] = freq.get(word, 0) + 1\n",
        "\n",
        "freq = sorted(freq.items(), key=lambda x: x[1], reverse=True)\n",
        "print(f\"Most common word: {freq[0][0]} with {freq[0][1]} occurrences\")\n",
        "print(f\"Second most common word: {freq[1][0]} with {freq[1][1]} occurrences\")\n",
        "print(f\"Third most common word: {freq[2][0]} with {freq[2][1]} occurrences\")\n"
      ]
    },
    {
      "cell_type": "markdown",
      "id": "1d845549",
      "metadata": {
        "id": "1d845549"
      },
      "source": [
        "## 6  Control Flow"
      ]
    },
    {
      "cell_type": "code",
      "execution_count": 11,
      "id": "5e45378b",
      "metadata": {
        "id": "5e45378b"
      },
      "outputs": [
        {
          "name": "stdout",
          "output_type": "stream",
          "text": [
            "2 readings above 22.0\n"
          ]
        }
      ],
      "source": [
        "# Example: count temps above threshold\n",
        "temps = [21.0, 23.5, 19.8, 22.3]\n",
        "threshold = 22.0\n",
        "count = 0\n",
        "for t in temps:\n",
        "    if t > threshold:\n",
        "        count += 1\n",
        "print(count, \"readings above\", threshold)\n"
      ]
    },
    {
      "cell_type": "markdown",
      "id": "68fa373d",
      "metadata": {
        "id": "68fa373d"
      },
      "source": [
        "### Exercise 5 — Step Tracker  \n",
        "`steps = [8560, 10432, 7523, 9450, 11001, 6789, 8023]`\n",
        "\n",
        "1. Use a **for loop** to compute total weekly steps.  \n",
        "2. Use a **while loop** to find the first day with fewer than 8 000 steps.\n",
        "\n",
        "**TODO:** complete the code.\n"
      ]
    },
    {
      "cell_type": "code",
      "execution_count": 12,
      "id": "3b31bedb",
      "metadata": {
        "id": "3b31bedb"
      },
      "outputs": [
        {
          "name": "stdout",
          "output_type": "stream",
          "text": [
            "Total steps: 61787\n",
            "First day with steps < 8000: 3\n"
          ]
        }
      ],
      "source": [
        "# TODO: step tracker\n",
        "steps = [8560, 10432, 7532, 9450, 11001, 6789, 8023]\n",
        "total = 0\n",
        "for e in steps:\n",
        "    total += e\n",
        "print(\"Total steps:\", total)\n",
        "i = 0\n",
        "while steps[i] >= 8000:\n",
        "    i += 1\n",
        "print(\"First day with steps < 8000:\", i + 1)"
      ]
    },
    {
      "cell_type": "markdown",
      "id": "0b088e22",
      "metadata": {
        "id": "0b088e22"
      },
      "source": [
        "## 7  Mini‑Project — Tiny Review Analyzer"
      ]
    },
    {
      "cell_type": "markdown",
      "id": "1a7aa2b6",
      "metadata": {
        "id": "1a7aa2b6"
      },
      "source": [
        "Work with the dataset of café reviews:\n",
        "\n",
        "```python\n",
        "reviews = [\n",
        "    {\"stars\":5, \"text\":\"Amazing coffee and ambiance.\"},\n",
        "    {\"stars\":4, \"text\":\"Great pastries, ok service.\"},\n",
        "    {\"stars\":2, \"text\":\"Coffee tasted burnt.\"},\n",
        "    {\"stars\":5, \"text\":\"My favorite café in town!\"},\n",
        "]\n",
        "```\n",
        "\n",
        "Tasks:\n",
        "\n",
        "1. Compute average star rating (float).  \n",
        "2. Print only 5‑star review texts.  \n",
        "3. Build a word‑frequency dictionary across all reviews (case‑insensitive).  \n",
        "\n",
        "**TODO:** tackle each sub‑task in the starter cell.  \n"
      ]
    },
    {
      "cell_type": "code",
      "execution_count": 17,
      "id": "f2583c2c",
      "metadata": {
        "id": "f2583c2c"
      },
      "outputs": [
        {
          "name": "stdout",
          "output_type": "stream",
          "text": [
            "Average stars: 4\n",
            "['Amazing coffee and ambiance.', 'My favorite café in town!']\n",
            "[('coffee', 2), ('amazing', 1), ('and', 1), ('ambiance.', 1), ('great', 1), ('pastries,', 1), ('ok', 1), ('service.', 1), ('tasted', 1), ('burnt.', 1), ('my', 1), ('favorite', 1), ('café', 1), ('in', 1), ('town!', 1)]\n"
          ]
        }
      ],
      "source": [
        "# TODO: review analyzer\n",
        "import statistics\n",
        "\n",
        "reviews = [\n",
        "    {\"stars\":5, \"text\":\"Amazing coffee and ambiance.\"},\n",
        "    {\"stars\":4, \"text\":\"Great pastries, ok service.\"},\n",
        "    {\"stars\":2, \"text\":\"Coffee tasted burnt.\"},\n",
        "    {\"stars\":5, \"text\":\"My favorite café in town!\"},\n",
        "]\n",
        "\n",
        "# 1. average stars\n",
        "avg_stars = statistics.mean(review[\"stars\"] for review in reviews)\n",
        "print(\"Average stars:\", avg_stars)\n",
        "\n",
        "# 2. five-star texts\n",
        "five_star_texts = []\n",
        "for review in reviews:\n",
        "    if review[\"stars\"] == 5:\n",
        "        five_star_texts.append(review[\"text\"])\n",
        "print(five_star_texts)\n",
        "\n",
        "# 3. word frequency\n",
        "freq={}\n",
        "for review in reviews:\n",
        "    for word in review[\"text\"].split():\n",
        "        freq[word.lower()] = freq.get(word.lower(), 0) + 1\n",
        "\n",
        "freq = sorted(freq.items(), key=lambda x: x[1], reverse=True)\n",
        "print(freq)"
      ]
    }
  ],
  "metadata": {
    "colab": {
      "provenance": []
    },
    "kernelspec": {
      "display_name": "july_2_environment",
      "language": "python",
      "name": "python3"
    },
    "language_info": {
      "codemirror_mode": {
        "name": "ipython",
        "version": 3
      },
      "file_extension": ".py",
      "mimetype": "text/x-python",
      "name": "python",
      "nbconvert_exporter": "python",
      "pygments_lexer": "ipython3",
      "version": "3.10.0"
    }
  },
  "nbformat": 4,
  "nbformat_minor": 5
}
