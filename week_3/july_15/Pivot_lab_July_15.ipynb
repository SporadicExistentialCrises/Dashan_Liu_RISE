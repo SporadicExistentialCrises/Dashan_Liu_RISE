{
 "cells": [
  {
   "cell_type": "markdown",
   "id": "bac7c160",
   "metadata": {},
   "source": [
    "# Pivot‑Table Practice Lab (21 Questions)\n",
    "\n",
    "Each question simulates a small DataFrame.  \n",
    "**Your task:** create the requested pivot table (or tidy reshape) *below the simulation cell*.\n",
    "Once you are finished, you can meet with your group. \n",
    "\n",
    "---\n",
    "\n"
   ]
  },
  {
   "cell_type": "markdown",
   "id": "f9d373f2",
   "metadata": {},
   "source": [
    "# Tidy Data Frame\n",
    "\n",
    "A **tidy data frame** follows three simple rules:\n",
    "\n",
    "1. **Each variable** is a column.  \n",
    "2. **Each observation** (or case) is a row.  \n",
    "3. **Each value** is a single cell.\n",
    "\n",
    "For example, this is _tidy_:\n",
    "\n",
    "| country | year | population |\n",
    "| ------- | ---- | ---------- |\n",
    "| A       | 2000 | 1,000,000  |\n",
    "| A       | 2010 | 1,100,000  |\n",
    "| B       | 2000 | 500,000    |\n",
    "| B       | 2010 | 600,000    |\n",
    "\n",
    "\n",
    "Here “country”, “year”, and “population” are each their own columns, and every row is one observation.\n",
    "\n",
    "---\n",
    "\n",
    "# Pivot Table\n",
    "\n",
    "A **pivot table** is a way to **reshape** and **summarize** data:\n",
    "\n",
    "- **Rows** and **columns** become grouping variables.  \n",
    "- **Cell values** are computed by applying an aggregation (sum, mean, count, etc.) to the data in each group.\n",
    "\n",
    "Using the same data, a pivot table showing population by country and year might look like:\n",
    "\n",
    "| country | 2000      | 2010      |\n",
    "| ------- | --------- | --------- |\n",
    "| A       | 1,000,000 | 1,100,000 |\n",
    "| B       | 500,000   | 600,000   |\n",
    "\n",
    "\n",
    "Here we’ve “pivoted” the year values into separate columns and filled in the population.\n",
    "\n",
    "---\n",
    "\n",
    "# Wide vs. Long Format\n",
    "\n",
    "- **Wide format**  \n",
    "  - Variables that could be rows (e.g. “year”) become separate columns.  \n",
    "  - Good for human‐readable tables or specific plotting functions.  \n",
    "\n",
    "| country | pop\\_2000 | pop\\_2010 |\n",
    "| ------- | --------- | --------- |\n",
    "| A       | 1,000,000 | 1,100,000 |\n",
    "| B       | 500,000   | 600,000   |\n",
    "\n",
    "\n",
    "- **Long format**  \n",
    "- Each row is one measurement; variable names live in a single column, with their values in another.  \n",
    "- Ideal for most data‐analysis and plotting libraries (e.g., pandas “melt”).\n",
    "\n",
    "| country | year | population |\n",
    "| ------- | ---- | ---------- |\n",
    "| A       | 2000 | 1,000,000  |\n",
    "| A       | 2010 | 1,100,000  |\n",
    "| B       | 2000 | 500,000    |\n",
    "| B       | 2010 | 600,000    |\n",
    "\n"
   ]
  },
  {
   "cell_type": "markdown",
   "id": "e31f0182",
   "metadata": {},
   "source": [
    "# Useful commands"
   ]
  },
  {
   "cell_type": "code",
   "execution_count": 1,
   "id": "f72dd1c3",
   "metadata": {},
   "outputs": [],
   "source": [
    "import pandas as pd\n",
    "\n",
    "# Sample long DataFrame\n",
    "df = pd.DataFrame({\n",
    "  'country': ['A','A','B','B'],\n",
    "  'year':    [2000,2010,2000,2010],\n",
    "  'population': [1_000_000,1_100_000,500_000,600_000]\n",
    "})"
   ]
  },
  {
   "cell_type": "code",
   "execution_count": 2,
   "id": "b80cf066",
   "metadata": {},
   "outputs": [
    {
     "data": {
      "text/html": [
       "<div>\n",
       "<style scoped>\n",
       "    .dataframe tbody tr th:only-of-type {\n",
       "        vertical-align: middle;\n",
       "    }\n",
       "\n",
       "    .dataframe tbody tr th {\n",
       "        vertical-align: top;\n",
       "    }\n",
       "\n",
       "    .dataframe thead th {\n",
       "        text-align: right;\n",
       "    }\n",
       "</style>\n",
       "<table border=\"1\" class=\"dataframe\">\n",
       "  <thead>\n",
       "    <tr style=\"text-align: right;\">\n",
       "      <th>year</th>\n",
       "      <th>2000</th>\n",
       "      <th>2010</th>\n",
       "    </tr>\n",
       "    <tr>\n",
       "      <th>country</th>\n",
       "      <th></th>\n",
       "      <th></th>\n",
       "    </tr>\n",
       "  </thead>\n",
       "  <tbody>\n",
       "    <tr>\n",
       "      <th>A</th>\n",
       "      <td>1000000</td>\n",
       "      <td>1100000</td>\n",
       "    </tr>\n",
       "    <tr>\n",
       "      <th>B</th>\n",
       "      <td>500000</td>\n",
       "      <td>600000</td>\n",
       "    </tr>\n",
       "  </tbody>\n",
       "</table>\n",
       "</div>"
      ],
      "text/plain": [
       "year        2000     2010\n",
       "country                  \n",
       "A        1000000  1100000\n",
       "B         500000   600000"
      ]
     },
     "execution_count": 2,
     "metadata": {},
     "output_type": "execute_result"
    }
   ],
   "source": [
    "# 1. Long → Wide with pivot (no aggregation)\n",
    "df_wide = df.pivot(index='country', columns='year', values='population')\n",
    "\n",
    "df_wide"
   ]
  },
  {
   "cell_type": "code",
   "execution_count": 3,
   "id": "45d7284a",
   "metadata": {},
   "outputs": [
    {
     "data": {
      "text/html": [
       "<div>\n",
       "<style scoped>\n",
       "    .dataframe tbody tr th:only-of-type {\n",
       "        vertical-align: middle;\n",
       "    }\n",
       "\n",
       "    .dataframe tbody tr th {\n",
       "        vertical-align: top;\n",
       "    }\n",
       "\n",
       "    .dataframe thead th {\n",
       "        text-align: right;\n",
       "    }\n",
       "</style>\n",
       "<table border=\"1\" class=\"dataframe\">\n",
       "  <thead>\n",
       "    <tr style=\"text-align: right;\">\n",
       "      <th>year</th>\n",
       "      <th>2000</th>\n",
       "      <th>2010</th>\n",
       "    </tr>\n",
       "    <tr>\n",
       "      <th>country</th>\n",
       "      <th></th>\n",
       "      <th></th>\n",
       "    </tr>\n",
       "  </thead>\n",
       "  <tbody>\n",
       "    <tr>\n",
       "      <th>A</th>\n",
       "      <td>1000000</td>\n",
       "      <td>1100000</td>\n",
       "    </tr>\n",
       "    <tr>\n",
       "      <th>B</th>\n",
       "      <td>500000</td>\n",
       "      <td>600000</td>\n",
       "    </tr>\n",
       "  </tbody>\n",
       "</table>\n",
       "</div>"
      ],
      "text/plain": [
       "year        2000     2010\n",
       "country                  \n",
       "A        1000000  1100000\n",
       "B         500000   600000"
      ]
     },
     "execution_count": 3,
     "metadata": {},
     "output_type": "execute_result"
    }
   ],
   "source": [
    "# 2. Long → Wide with aggregation (sum, mean, etc.)\n",
    "df_pt = df.pivot_table(\n",
    "  index='country',\n",
    "  columns='year',\n",
    "  values='population',\n",
    "  aggfunc='sum'\n",
    ")\n",
    "\n",
    "df_pt"
   ]
  },
  {
   "cell_type": "code",
   "execution_count": 4,
   "id": "6f19b761",
   "metadata": {},
   "outputs": [
    {
     "data": {
      "text/html": [
       "<div>\n",
       "<style scoped>\n",
       "    .dataframe tbody tr th:only-of-type {\n",
       "        vertical-align: middle;\n",
       "    }\n",
       "\n",
       "    .dataframe tbody tr th {\n",
       "        vertical-align: top;\n",
       "    }\n",
       "\n",
       "    .dataframe thead th {\n",
       "        text-align: right;\n",
       "    }\n",
       "</style>\n",
       "<table border=\"1\" class=\"dataframe\">\n",
       "  <thead>\n",
       "    <tr style=\"text-align: right;\">\n",
       "      <th></th>\n",
       "      <th>country</th>\n",
       "      <th>year</th>\n",
       "      <th>population</th>\n",
       "    </tr>\n",
       "  </thead>\n",
       "  <tbody>\n",
       "    <tr>\n",
       "      <th>0</th>\n",
       "      <td>A</td>\n",
       "      <td>2000</td>\n",
       "      <td>1000000</td>\n",
       "    </tr>\n",
       "    <tr>\n",
       "      <th>1</th>\n",
       "      <td>B</td>\n",
       "      <td>2000</td>\n",
       "      <td>500000</td>\n",
       "    </tr>\n",
       "    <tr>\n",
       "      <th>2</th>\n",
       "      <td>A</td>\n",
       "      <td>2010</td>\n",
       "      <td>1100000</td>\n",
       "    </tr>\n",
       "    <tr>\n",
       "      <th>3</th>\n",
       "      <td>B</td>\n",
       "      <td>2010</td>\n",
       "      <td>600000</td>\n",
       "    </tr>\n",
       "  </tbody>\n",
       "</table>\n",
       "</div>"
      ],
      "text/plain": [
       "  country  year  population\n",
       "0       A  2000     1000000\n",
       "1       B  2000      500000\n",
       "2       A  2010     1100000\n",
       "3       B  2010      600000"
      ]
     },
     "execution_count": 4,
     "metadata": {},
     "output_type": "execute_result"
    }
   ],
   "source": [
    "# 3. Wide → Long with melt\n",
    "df_wide_reset = df_wide.reset_index()  # bring 'country' back to a column\n",
    "df_long = df_wide_reset.melt(\n",
    "  id_vars='country',\n",
    "  var_name='year',\n",
    "  value_name='population'\n",
    ")\n",
    "\n",
    "df_long"
   ]
  },
  {
   "cell_type": "code",
   "execution_count": 5,
   "id": "28fcc347",
   "metadata": {},
   "outputs": [
    {
     "data": {
      "text/html": [
       "<div>\n",
       "<style scoped>\n",
       "    .dataframe tbody tr th:only-of-type {\n",
       "        vertical-align: middle;\n",
       "    }\n",
       "\n",
       "    .dataframe tbody tr th {\n",
       "        vertical-align: top;\n",
       "    }\n",
       "\n",
       "    .dataframe thead th {\n",
       "        text-align: right;\n",
       "    }\n",
       "</style>\n",
       "<table border=\"1\" class=\"dataframe\">\n",
       "  <thead>\n",
       "    <tr style=\"text-align: right;\">\n",
       "      <th></th>\n",
       "      <th>country</th>\n",
       "      <th>year</th>\n",
       "      <th>population</th>\n",
       "    </tr>\n",
       "  </thead>\n",
       "  <tbody>\n",
       "    <tr>\n",
       "      <th>0</th>\n",
       "      <td>A</td>\n",
       "      <td>2000</td>\n",
       "      <td>1000000</td>\n",
       "    </tr>\n",
       "    <tr>\n",
       "      <th>1</th>\n",
       "      <td>B</td>\n",
       "      <td>2000</td>\n",
       "      <td>500000</td>\n",
       "    </tr>\n",
       "    <tr>\n",
       "      <th>2</th>\n",
       "      <td>A</td>\n",
       "      <td>2010</td>\n",
       "      <td>1100000</td>\n",
       "    </tr>\n",
       "    <tr>\n",
       "      <th>3</th>\n",
       "      <td>B</td>\n",
       "      <td>2010</td>\n",
       "      <td>600000</td>\n",
       "    </tr>\n",
       "  </tbody>\n",
       "</table>\n",
       "</div>"
      ],
      "text/plain": [
       "  country  year  population\n",
       "0       A  2000     1000000\n",
       "1       B  2000      500000\n",
       "2       A  2010     1100000\n",
       "3       B  2010      600000"
      ]
     },
     "execution_count": 5,
     "metadata": {},
     "output_type": "execute_result"
    }
   ],
   "source": [
    "# 4. Tidying a more complex wide table\n",
    "# Suppose you have separate year columns: pop_2000, pop_2010\n",
    "df2 = pd.DataFrame({\n",
    "  'country': ['A','B'],\n",
    "  'pop_2000': [1_000_000, 500_000],\n",
    "  'pop_2010': [1_100_000, 600_000]\n",
    "})\n",
    "df2_long = df2.melt(\n",
    "  id_vars='country',\n",
    "  value_vars=['pop_2000','pop_2010'],\n",
    "  var_name='year',\n",
    "  value_name='population'\n",
    ")\n",
    "# Clean up 'year' values\n",
    "df2_long['year'] = df2_long['year'].str.replace('pop_','').astype(int)\n",
    "\n",
    "df2_long"
   ]
  },
  {
   "cell_type": "markdown",
   "id": "a08ba83c",
   "metadata": {},
   "source": [
    "## Question 1 — Region × Units Sold"
   ]
  },
  {
   "cell_type": "markdown",
   "id": "623196ef",
   "metadata": {},
   "source": [
    "Create a pivot table that shows **total units** sold in each region (i.e. region | units, use pd.pivot_table)"
   ]
  },
  {
   "cell_type": "code",
   "execution_count": 14,
   "id": "c6a652cf",
   "metadata": {},
   "outputs": [
    {
     "name": "stdout",
     "output_type": "stream",
     "text": [
      "   region    item  units\n",
      "0   North  Widget      7\n",
      "1    West  Widget      8\n",
      "2   South  Widget      8\n",
      "3   North  Widget      9\n",
      "4    West  Widget      2\n",
      "5    West  Widget      6\n",
      "6    West  Widget     10\n",
      "7    West  Widget      9\n",
      "8   South  Widget     10\n",
      "9    West  Widget      5\n",
      "10  South  Widget      4\n",
      "11   East  Widget      1\n",
      "12  North  Widget      4\n",
      "13   West  Widget      6\n",
      "14   East  Widget      1\n",
      "15  North  Widget      3\n",
      "16  North  Widget      4\n",
      "17  North  Widget      9\n",
      "18   East  Widget      2\n",
      "19  South  Widget      4\n"
     ]
    },
    {
     "name": "stderr",
     "output_type": "stream",
     "text": [
      "C:\\Users\\dasha\\AppData\\Local\\Temp\\ipykernel_41744\\854492205.py:10: FutureWarning: The provided callable <built-in function sum> is currently using DataFrameGroupBy.sum. In a future version of pandas, the provided callable will be used directly. To keep current behavior pass the string \"sum\" instead.\n",
      "  df_pivoted=df.pivot_table(values=\"units\",index=\"region\", aggfunc=sum)\n"
     ]
    },
    {
     "data": {
      "text/html": [
       "<div>\n",
       "<style scoped>\n",
       "    .dataframe tbody tr th:only-of-type {\n",
       "        vertical-align: middle;\n",
       "    }\n",
       "\n",
       "    .dataframe tbody tr th {\n",
       "        vertical-align: top;\n",
       "    }\n",
       "\n",
       "    .dataframe thead th {\n",
       "        text-align: right;\n",
       "    }\n",
       "</style>\n",
       "<table border=\"1\" class=\"dataframe\">\n",
       "  <thead>\n",
       "    <tr style=\"text-align: right;\">\n",
       "      <th></th>\n",
       "      <th>units</th>\n",
       "    </tr>\n",
       "    <tr>\n",
       "      <th>region</th>\n",
       "      <th></th>\n",
       "    </tr>\n",
       "  </thead>\n",
       "  <tbody>\n",
       "    <tr>\n",
       "      <th>East</th>\n",
       "      <td>4</td>\n",
       "    </tr>\n",
       "    <tr>\n",
       "      <th>North</th>\n",
       "      <td>36</td>\n",
       "    </tr>\n",
       "    <tr>\n",
       "      <th>South</th>\n",
       "      <td>26</td>\n",
       "    </tr>\n",
       "    <tr>\n",
       "      <th>West</th>\n",
       "      <td>46</td>\n",
       "    </tr>\n",
       "  </tbody>\n",
       "</table>\n",
       "</div>"
      ],
      "text/plain": [
       "        units\n",
       "region       \n",
       "East        4\n",
       "North      36\n",
       "South      26\n",
       "West       46"
      ]
     },
     "execution_count": 14,
     "metadata": {},
     "output_type": "execute_result"
    }
   ],
   "source": [
    "import pandas as pd, numpy as np\n",
    "np.random.seed(0)\n",
    "regions = ['North','South','East','West']\n",
    "items = ['Widget']\n",
    "df = pd.DataFrame({\n",
    "    'region': np.random.choice(regions, size=20),\n",
    "    'item': 'Widget',\n",
    "    'units': np.random.randint(1, 11, 20)\n",
    "})\n",
    "df_pivoted=df.pivot_table(values=\"units\",index=\"region\", aggfunc=sum)\n",
    "print(df)\n",
    "df_pivoted"
   ]
  },
  {
   "cell_type": "markdown",
   "id": "56adc247",
   "metadata": {},
   "source": [
    "<details><summary><strong>Show Solution</strong></summary>\n",
    "\n",
    "```python\n",
    "pd.pivot_table(df, index='region', values='units', aggfunc='sum')\n",
    "```\n",
    "\n",
    "</details>"
   ]
  },
  {
   "cell_type": "markdown",
   "id": "f597b2c3",
   "metadata": {},
   "source": [
    "## Question 2 — Average Temperature per City"
   ]
  },
  {
   "cell_type": "markdown",
   "id": "8bfd6768",
   "metadata": {},
   "source": [
    "Compute the **average temperature** for each city using a pivot table (use pivot_table)"
   ]
  },
  {
   "cell_type": "code",
   "execution_count": 20,
   "id": "c5afd46d",
   "metadata": {},
   "outputs": [
    {
     "data": {
      "text/html": [
       "<div>\n",
       "<style scoped>\n",
       "    .dataframe tbody tr th:only-of-type {\n",
       "        vertical-align: middle;\n",
       "    }\n",
       "\n",
       "    .dataframe tbody tr th {\n",
       "        vertical-align: top;\n",
       "    }\n",
       "\n",
       "    .dataframe thead th {\n",
       "        text-align: right;\n",
       "    }\n",
       "</style>\n",
       "<table border=\"1\" class=\"dataframe\">\n",
       "  <thead>\n",
       "    <tr style=\"text-align: right;\">\n",
       "      <th></th>\n",
       "      <th>temp_C</th>\n",
       "    </tr>\n",
       "    <tr>\n",
       "      <th>city</th>\n",
       "      <th></th>\n",
       "    </tr>\n",
       "  </thead>\n",
       "  <tbody>\n",
       "    <tr>\n",
       "      <th>Boston</th>\n",
       "      <td>24.596432</td>\n",
       "    </tr>\n",
       "    <tr>\n",
       "      <th>Chicago</th>\n",
       "      <td>25.396862</td>\n",
       "    </tr>\n",
       "    <tr>\n",
       "      <th>Seattle</th>\n",
       "      <td>26.058069</td>\n",
       "    </tr>\n",
       "  </tbody>\n",
       "</table>\n",
       "</div>"
      ],
      "text/plain": [
       "            temp_C\n",
       "city              \n",
       "Boston   24.596432\n",
       "Chicago  25.396862\n",
       "Seattle  26.058069"
      ]
     },
     "execution_count": 20,
     "metadata": {},
     "output_type": "execute_result"
    }
   ],
   "source": [
    "np.random.seed(1)\n",
    "cities = ['Boston','Chicago','Seattle']\n",
    "dates = pd.date_range('2025-07-01', periods=15)\n",
    "df = pd.DataFrame({\n",
    "    'city': np.random.choice(cities, size=45),\n",
    "    'date': np.tile(dates, 3),\n",
    "    'temp_C': np.random.normal(25, 3, 45)\n",
    "})\n",
    "df.head()\n",
    "df_pivoted = df.pivot_table(index=\"city\", values=\"temp_C\", aggfunc=\"mean\")\n",
    "df_pivoted\n"
   ]
  },
  {
   "cell_type": "markdown",
   "id": "8d43cde1",
   "metadata": {},
   "source": [
    "<details><summary><strong>Show Solution</strong></summary>\n",
    "\n",
    "```python\n",
    "df.pivot_table(index='city', values='temp_C', aggfunc='mean')\n",
    "```\n",
    "\n",
    "</details>"
   ]
  },
  {
   "cell_type": "markdown",
   "id": "1a9b1564",
   "metadata": {},
   "source": [
    "## Question 3 — Count Students by Grade"
   ]
  },
  {
   "cell_type": "markdown",
   "id": "dd3bf2de",
   "metadata": {},
   "source": [
    "Produce a pivot table counting how many students earned each grade."
   ]
  },
  {
   "cell_type": "code",
   "execution_count": 29,
   "id": "cedca4de",
   "metadata": {},
   "outputs": [
    {
     "data": {
      "text/html": [
       "<div>\n",
       "<style scoped>\n",
       "    .dataframe tbody tr th:only-of-type {\n",
       "        vertical-align: middle;\n",
       "    }\n",
       "\n",
       "    .dataframe tbody tr th {\n",
       "        vertical-align: top;\n",
       "    }\n",
       "\n",
       "    .dataframe thead th {\n",
       "        text-align: right;\n",
       "    }\n",
       "</style>\n",
       "<table border=\"1\" class=\"dataframe\">\n",
       "  <thead>\n",
       "    <tr style=\"text-align: right;\">\n",
       "      <th></th>\n",
       "      <th>student_id</th>\n",
       "    </tr>\n",
       "    <tr>\n",
       "      <th>grade</th>\n",
       "      <th></th>\n",
       "    </tr>\n",
       "  </thead>\n",
       "  <tbody>\n",
       "    <tr>\n",
       "      <th>A</th>\n",
       "      <td>12</td>\n",
       "    </tr>\n",
       "    <tr>\n",
       "      <th>B</th>\n",
       "      <td>7</td>\n",
       "    </tr>\n",
       "    <tr>\n",
       "      <th>C</th>\n",
       "      <td>12</td>\n",
       "    </tr>\n",
       "    <tr>\n",
       "      <th>D</th>\n",
       "      <td>19</td>\n",
       "    </tr>\n",
       "  </tbody>\n",
       "</table>\n",
       "</div>"
      ],
      "text/plain": [
       "       student_id\n",
       "grade            \n",
       "A              12\n",
       "B               7\n",
       "C              12\n",
       "D              19"
      ]
     },
     "execution_count": 29,
     "metadata": {},
     "output_type": "execute_result"
    }
   ],
   "source": [
    "np.random.seed(2)\n",
    "grades = ['A','B','C','D']\n",
    "df = pd.DataFrame({\n",
    "    'student_id': range(1,51),\n",
    "    'grade': np.random.choice(grades, 50)\n",
    "})\n",
    "df.head()\n",
    "df_pivoted=df.pivot_table(index=\"grade\",values=\"student_id\",aggfunc=\"count\")\n",
    "df_pivoted\n"
   ]
  },
  {
   "cell_type": "markdown",
   "id": "ac93ebfb",
   "metadata": {},
   "source": [
    "<details><summary><strong>Show Solution</strong></summary>\n",
    "\n",
    "```python\n",
    "df.pivot_table(index='grade', values='student_id', aggfunc='count')\n",
    "```\n",
    "\n",
    "</details>"
   ]
  },
  {
   "cell_type": "markdown",
   "id": "74451d13",
   "metadata": {},
   "source": [
    "## Question 4 — Quarterly Department Expenses"
   ]
  },
  {
   "cell_type": "markdown",
   "id": "9f553109",
   "metadata": {},
   "source": [
    "Pivot the table so **quarters become columns** and expenses fill values. Use pd.pivot."
   ]
  },
  {
   "cell_type": "code",
   "execution_count": 31,
   "id": "f570bff0",
   "metadata": {},
   "outputs": [
    {
     "data": {
      "text/html": [
       "<div>\n",
       "<style scoped>\n",
       "    .dataframe tbody tr th:only-of-type {\n",
       "        vertical-align: middle;\n",
       "    }\n",
       "\n",
       "    .dataframe tbody tr th {\n",
       "        vertical-align: top;\n",
       "    }\n",
       "\n",
       "    .dataframe thead th {\n",
       "        text-align: right;\n",
       "    }\n",
       "</style>\n",
       "<table border=\"1\" class=\"dataframe\">\n",
       "  <thead>\n",
       "    <tr style=\"text-align: right;\">\n",
       "      <th>quarter</th>\n",
       "      <th>Q1</th>\n",
       "      <th>Q2</th>\n",
       "      <th>Q3</th>\n",
       "      <th>Q4</th>\n",
       "    </tr>\n",
       "    <tr>\n",
       "      <th>department</th>\n",
       "      <th></th>\n",
       "      <th></th>\n",
       "      <th></th>\n",
       "      <th></th>\n",
       "    </tr>\n",
       "  </thead>\n",
       "  <tbody>\n",
       "    <tr>\n",
       "      <th>HR</th>\n",
       "      <td>10994.0</td>\n",
       "      <td>6688.0</td>\n",
       "      <td>16513.0</td>\n",
       "      <td>14859.0</td>\n",
       "    </tr>\n",
       "    <tr>\n",
       "      <th>IT</th>\n",
       "      <td>14160.0</td>\n",
       "      <td>11400.0</td>\n",
       "      <td>13981.0</td>\n",
       "      <td>16261.0</td>\n",
       "    </tr>\n",
       "    <tr>\n",
       "      <th>Sales</th>\n",
       "      <td>7707.0</td>\n",
       "      <td>19026.0</td>\n",
       "      <td>16115.0</td>\n",
       "      <td>12161.0</td>\n",
       "    </tr>\n",
       "  </tbody>\n",
       "</table>\n",
       "</div>"
      ],
      "text/plain": [
       "quarter          Q1       Q2       Q3       Q4\n",
       "department                                    \n",
       "HR          10994.0   6688.0  16513.0  14859.0\n",
       "IT          14160.0  11400.0  13981.0  16261.0\n",
       "Sales        7707.0  19026.0  16115.0  12161.0"
      ]
     },
     "execution_count": 31,
     "metadata": {},
     "output_type": "execute_result"
    }
   ],
   "source": [
    "np.random.seed(3)\n",
    "depts = ['HR','IT','Sales']\n",
    "quarters = ['Q1','Q2','Q3','Q4']\n",
    "records = [(d,q,np.random.randint(5000,20000)) for d in depts for q in quarters]\n",
    "df = pd.DataFrame(records, columns=['department','quarter','expense'])\n",
    "df.head()\n",
    "df_pivoted=df.pivot_table(index=\"department\", columns=\"quarter\", values=\"expense\")\n",
    "df_pivoted\n"
   ]
  },
  {
   "cell_type": "markdown",
   "id": "d6cdc3ea",
   "metadata": {},
   "source": [
    "<details><summary><strong>Show Solution</strong></summary>\n",
    "\n",
    "```python\n",
    "df.pivot(index='department', columns='quarter', values='expense')\n",
    "```\n",
    "\n",
    "</details>"
   ]
  },
  {
   "cell_type": "markdown",
   "id": "8535da8a",
   "metadata": {},
   "source": [
    "## Question 5 — Wide‑to‑Long Patient BP"
   ]
  },
  {
   "cell_type": "markdown",
   "id": "ffd36a59",
   "metadata": {},
   "source": [
    "Melt the DataFrame to long form with columns: patient, day, bp."
   ]
  },
  {
   "cell_type": "code",
   "execution_count": 33,
   "id": "ec596111",
   "metadata": {},
   "outputs": [
    {
     "data": {
      "text/html": [
       "<div>\n",
       "<style scoped>\n",
       "    .dataframe tbody tr th:only-of-type {\n",
       "        vertical-align: middle;\n",
       "    }\n",
       "\n",
       "    .dataframe tbody tr th {\n",
       "        vertical-align: top;\n",
       "    }\n",
       "\n",
       "    .dataframe thead th {\n",
       "        text-align: right;\n",
       "    }\n",
       "</style>\n",
       "<table border=\"1\" class=\"dataframe\">\n",
       "  <thead>\n",
       "    <tr style=\"text-align: right;\">\n",
       "      <th></th>\n",
       "      <th>patient</th>\n",
       "      <th>day</th>\n",
       "      <th>bp</th>\n",
       "    </tr>\n",
       "  </thead>\n",
       "  <tbody>\n",
       "    <tr>\n",
       "      <th>0</th>\n",
       "      <td>P1</td>\n",
       "      <td>day1</td>\n",
       "      <td>124</td>\n",
       "    </tr>\n",
       "    <tr>\n",
       "      <th>1</th>\n",
       "      <td>P2</td>\n",
       "      <td>day1</td>\n",
       "      <td>115</td>\n",
       "    </tr>\n",
       "    <tr>\n",
       "      <th>2</th>\n",
       "      <td>P3</td>\n",
       "      <td>day1</td>\n",
       "      <td>111</td>\n",
       "    </tr>\n",
       "    <tr>\n",
       "      <th>3</th>\n",
       "      <td>P1</td>\n",
       "      <td>day2</td>\n",
       "      <td>118</td>\n",
       "    </tr>\n",
       "    <tr>\n",
       "      <th>4</th>\n",
       "      <td>P2</td>\n",
       "      <td>day2</td>\n",
       "      <td>118</td>\n",
       "    </tr>\n",
       "    <tr>\n",
       "      <th>5</th>\n",
       "      <td>P3</td>\n",
       "      <td>day2</td>\n",
       "      <td>128</td>\n",
       "    </tr>\n",
       "    <tr>\n",
       "      <th>6</th>\n",
       "      <td>P1</td>\n",
       "      <td>day3</td>\n",
       "      <td>119</td>\n",
       "    </tr>\n",
       "    <tr>\n",
       "      <th>7</th>\n",
       "      <td>P2</td>\n",
       "      <td>day3</td>\n",
       "      <td>117</td>\n",
       "    </tr>\n",
       "    <tr>\n",
       "      <th>8</th>\n",
       "      <td>P3</td>\n",
       "      <td>day3</td>\n",
       "      <td>123</td>\n",
       "    </tr>\n",
       "  </tbody>\n",
       "</table>\n",
       "</div>"
      ],
      "text/plain": [
       "  patient   day   bp\n",
       "0      P1  day1  124\n",
       "1      P2  day1  115\n",
       "2      P3  day1  111\n",
       "3      P1  day2  118\n",
       "4      P2  day2  118\n",
       "5      P3  day2  128\n",
       "6      P1  day3  119\n",
       "7      P2  day3  117\n",
       "8      P3  day3  123"
      ]
     },
     "execution_count": 33,
     "metadata": {},
     "output_type": "execute_result"
    }
   ],
   "source": [
    "np.random.seed(4)\n",
    "df = pd.DataFrame({\n",
    "    'patient':['P1','P2','P3'],\n",
    "    'day1': np.random.randint(110,130,3),\n",
    "    'day2': np.random.randint(110,130,3),\n",
    "    'day3': np.random.randint(110,130,3)\n",
    "})\n",
    "\n",
    "df_long = df.melt(id_vars=\"patient\",var_name=\"day\",value_name=\"bp\")\n",
    "df_long\n"
   ]
  },
  {
   "cell_type": "markdown",
   "id": "fd2849a1",
   "metadata": {},
   "source": [
    "<details><summary><strong>Show Solution</strong></summary>\n",
    "\n",
    "```python\n",
    "df_long = df.melt(id_vars='patient', var_name='day', value_name='bp')\n",
    "```\n",
    "\n",
    "</details>"
   ]
  },
  {
   "cell_type": "markdown",
   "id": "60126831",
   "metadata": {},
   "source": [
    "## Question 6 — Mean Score by Class & Subject"
   ]
  },
  {
   "cell_type": "markdown",
   "id": "ee10c1e9",
   "metadata": {},
   "source": [
    "Pivot to show **average score** per class (rows) and subject (columns)."
   ]
  },
  {
   "cell_type": "code",
   "execution_count": 35,
   "id": "eb667324",
   "metadata": {},
   "outputs": [
    {
     "data": {
      "text/html": [
       "<div>\n",
       "<style scoped>\n",
       "    .dataframe tbody tr th:only-of-type {\n",
       "        vertical-align: middle;\n",
       "    }\n",
       "\n",
       "    .dataframe tbody tr th {\n",
       "        vertical-align: top;\n",
       "    }\n",
       "\n",
       "    .dataframe thead th {\n",
       "        text-align: right;\n",
       "    }\n",
       "</style>\n",
       "<table border=\"1\" class=\"dataframe\">\n",
       "  <thead>\n",
       "    <tr style=\"text-align: right;\">\n",
       "      <th>subject</th>\n",
       "      <th>History</th>\n",
       "      <th>Math</th>\n",
       "      <th>Science</th>\n",
       "    </tr>\n",
       "    <tr>\n",
       "      <th>class</th>\n",
       "      <th></th>\n",
       "      <th></th>\n",
       "      <th></th>\n",
       "    </tr>\n",
       "  </thead>\n",
       "  <tbody>\n",
       "    <tr>\n",
       "      <th>A</th>\n",
       "      <td>73.8</td>\n",
       "      <td>80.0</td>\n",
       "      <td>72.6</td>\n",
       "    </tr>\n",
       "    <tr>\n",
       "      <th>B</th>\n",
       "      <td>73.2</td>\n",
       "      <td>79.2</td>\n",
       "      <td>69.8</td>\n",
       "    </tr>\n",
       "  </tbody>\n",
       "</table>\n",
       "</div>"
      ],
      "text/plain": [
       "subject  History  Math  Science\n",
       "class                          \n",
       "A           73.8  80.0     72.6\n",
       "B           73.2  79.2     69.8"
      ]
     },
     "execution_count": 35,
     "metadata": {},
     "output_type": "execute_result"
    }
   ],
   "source": [
    "np.random.seed(5)\n",
    "classes = ['A','B']\n",
    "subjects = ['Math','History','Science']\n",
    "records=[(c,s,np.random.randint(50,101)) for c in classes for s in subjects for _ in range(5)]\n",
    "df=pd.DataFrame(records, columns=['class','subject','score'])\n",
    "df.head()\n",
    "df_pivoted = df.pivot_table(index=\"class\",columns=\"subject\", values=\"score\", aggfunc=\"mean\")\n",
    "df_pivoted"
   ]
  },
  {
   "cell_type": "markdown",
   "id": "17f88e92",
   "metadata": {},
   "source": [
    "<details><summary><strong>Show Solution</strong></summary>\n",
    "\n",
    "```python\n",
    "df.pivot_table(index='class', columns='subject', values='score', aggfunc='mean')\n",
    "```\n",
    "\n",
    "</details>"
   ]
  },
  {
   "cell_type": "markdown",
   "id": "ad4cfb65",
   "metadata": {},
   "source": [
    "## Question 7 — Satisfaction Counts by Gender"
   ]
  },
  {
   "cell_type": "markdown",
   "id": "7703b79b",
   "metadata": {},
   "source": [
    "Count satisfied vs not by gender (rows=gender, cols=satisfied)."
   ]
  },
  {
   "cell_type": "code",
   "execution_count": 42,
   "id": "1d40f7f7",
   "metadata": {},
   "outputs": [
    {
     "name": "stdout",
     "output_type": "stream",
     "text": [
      "   gender  satisfied\n",
      "0       F          1\n",
      "1       M          0\n",
      "2       M          1\n",
      "3       F          1\n",
      "4       F          0\n",
      "5       M          0\n",
      "6       M          1\n",
      "7       F          1\n",
      "8       F          1\n",
      "9       F          1\n",
      "10      M          0\n",
      "11      M          1\n",
      "12      M          0\n",
      "13      M          0\n",
      "14      M          0\n",
      "15      F          1\n",
      "16      M          0\n",
      "17      M          1\n",
      "18      F          1\n",
      "19      F          1\n",
      "20      F          0\n",
      "21      M          0\n",
      "22      F          1\n",
      "23      F          1\n",
      "24      F          1\n",
      "25      F          0\n",
      "26      M          0\n",
      "27      M          0\n",
      "28      F          1\n",
      "29      M          0\n"
     ]
    },
    {
     "data": {
      "text/html": [
       "<div>\n",
       "<style scoped>\n",
       "    .dataframe tbody tr th:only-of-type {\n",
       "        vertical-align: middle;\n",
       "    }\n",
       "\n",
       "    .dataframe tbody tr th {\n",
       "        vertical-align: top;\n",
       "    }\n",
       "\n",
       "    .dataframe thead th {\n",
       "        text-align: right;\n",
       "    }\n",
       "</style>\n",
       "<table border=\"1\" class=\"dataframe\">\n",
       "  <thead>\n",
       "    <tr style=\"text-align: right;\">\n",
       "      <th>satisfied</th>\n",
       "      <th>0</th>\n",
       "      <th>1</th>\n",
       "    </tr>\n",
       "    <tr>\n",
       "      <th>gender</th>\n",
       "      <th></th>\n",
       "      <th></th>\n",
       "    </tr>\n",
       "  </thead>\n",
       "  <tbody>\n",
       "    <tr>\n",
       "      <th>F</th>\n",
       "      <td>3</td>\n",
       "      <td>12</td>\n",
       "    </tr>\n",
       "    <tr>\n",
       "      <th>M</th>\n",
       "      <td>11</td>\n",
       "      <td>4</td>\n",
       "    </tr>\n",
       "  </tbody>\n",
       "</table>\n",
       "</div>"
      ],
      "text/plain": [
       "satisfied   0   1\n",
       "gender           \n",
       "F           3  12\n",
       "M          11   4"
      ]
     },
     "execution_count": 42,
     "metadata": {},
     "output_type": "execute_result"
    }
   ],
   "source": [
    "np.random.seed(6)\n",
    "df = pd.DataFrame({\n",
    "    'gender': np.random.choice(['F','M'], 30),\n",
    "    'satisfied': np.random.choice([0,1], 30)\n",
    "})\n",
    "print(df)\n",
    "df_pivoted=pd.crosstab(df[\"gender\"], df[\"satisfied\"])\n",
    "df_pivoted"
   ]
  },
  {
   "cell_type": "markdown",
   "id": "69f4d46a",
   "metadata": {},
   "source": [
    "<details><summary><strong>Show Solution</strong></summary>\n",
    "\n",
    "```python\n",
    "pd.pivot_table(df, index='gender', columns='satisfied', values='satisfied', aggfunc='count', fill_value=0)\n",
    "```\n",
    "\n",
    "</details>"
   ]
  },
  {
   "cell_type": "markdown",
   "id": "44910a3a",
   "metadata": {},
   "source": [
    "## Question 8 — Handle Missing Units Before Pivot"
   ]
  },
  {
   "cell_type": "markdown",
   "id": "c32240c7",
   "metadata": {},
   "source": [
    "Fill missing units with 0, then sum units per store×category."
   ]
  },
  {
   "cell_type": "code",
   "execution_count": 46,
   "id": "e176e5b1",
   "metadata": {},
   "outputs": [
    {
     "data": {
      "text/html": [
       "<div>\n",
       "<style scoped>\n",
       "    .dataframe tbody tr th:only-of-type {\n",
       "        vertical-align: middle;\n",
       "    }\n",
       "\n",
       "    .dataframe tbody tr th {\n",
       "        vertical-align: top;\n",
       "    }\n",
       "\n",
       "    .dataframe thead th {\n",
       "        text-align: right;\n",
       "    }\n",
       "</style>\n",
       "<table border=\"1\" class=\"dataframe\">\n",
       "  <thead>\n",
       "    <tr style=\"text-align: right;\">\n",
       "      <th>category</th>\n",
       "      <th>X</th>\n",
       "      <th>Y</th>\n",
       "    </tr>\n",
       "    <tr>\n",
       "      <th>store</th>\n",
       "      <th></th>\n",
       "      <th></th>\n",
       "    </tr>\n",
       "  </thead>\n",
       "  <tbody>\n",
       "    <tr>\n",
       "      <th>A</th>\n",
       "      <td>16.0</td>\n",
       "      <td>26.0</td>\n",
       "    </tr>\n",
       "    <tr>\n",
       "      <th>B</th>\n",
       "      <td>15.0</td>\n",
       "      <td>15.0</td>\n",
       "    </tr>\n",
       "    <tr>\n",
       "      <th>C</th>\n",
       "      <td>4.0</td>\n",
       "      <td>24.0</td>\n",
       "    </tr>\n",
       "  </tbody>\n",
       "</table>\n",
       "</div>"
      ],
      "text/plain": [
       "category     X     Y\n",
       "store               \n",
       "A         16.0  26.0\n",
       "B         15.0  15.0\n",
       "C          4.0  24.0"
      ]
     },
     "execution_count": 46,
     "metadata": {},
     "output_type": "execute_result"
    }
   ],
   "source": [
    "np.random.seed(7)\n",
    "df = pd.DataFrame({\n",
    "    'store': np.random.choice(['A','B','C'], 15),\n",
    "    'category': np.random.choice(['X','Y'], 15),\n",
    "    'units': np.random.randint(1,20,15).astype(float)\n",
    "})\n",
    "# Introduce missing\n",
    "df.loc[df.sample(5).index, 'units'] = np.nan\n",
    "df = df.fillna(0)\n",
    "df = df.pivot_table(index=\"store\", columns=\"category\", values=\"units\", aggfunc=\"sum\")\n",
    "df.head()\n"
   ]
  },
  {
   "cell_type": "markdown",
   "id": "0d287f76",
   "metadata": {},
   "source": [
    "<details><summary><strong>Show Solution</strong></summary>\n",
    "\n",
    "```python\n",
    "df_filled = df.fillna({'units':0})\n",
    "df_filled.pivot_table(index='store', columns='category', values='units', aggfunc='sum')\n",
    "```\n",
    "\n",
    "</details>"
   ]
  },
  {
   "cell_type": "markdown",
   "id": "ba33d6ce",
   "metadata": {},
   "source": [
    "## Question 9 — Split Year‑Month Column"
   ]
  },
  {
   "cell_type": "markdown",
   "id": "f164971d",
   "metadata": {},
   "source": [
    "Split year_month into separate year and month columns, then pivot to show total sales by month (columns) for each year."
   ]
  },
  {
   "cell_type": "code",
   "execution_count": 50,
   "id": "525a972c",
   "metadata": {},
   "outputs": [
    {
     "name": "stderr",
     "output_type": "stream",
     "text": [
      "C:\\Users\\dasha\\AppData\\Local\\Temp\\ipykernel_41744\\844670378.py:7: FutureWarning: The provided callable <built-in function sum> is currently using DataFrameGroupBy.sum. In a future version of pandas, the provided callable will be used directly. To keep current behavior pass the string \"sum\" instead.\n",
      "  df=df.pivot_table(index=\"year\", columns=\"month\", values=\"sales\", aggfunc=sum)\n"
     ]
    },
    {
     "data": {
      "text/html": [
       "<div>\n",
       "<style scoped>\n",
       "    .dataframe tbody tr th:only-of-type {\n",
       "        vertical-align: middle;\n",
       "    }\n",
       "\n",
       "    .dataframe tbody tr th {\n",
       "        vertical-align: top;\n",
       "    }\n",
       "\n",
       "    .dataframe thead th {\n",
       "        text-align: right;\n",
       "    }\n",
       "</style>\n",
       "<table border=\"1\" class=\"dataframe\">\n",
       "  <thead>\n",
       "    <tr style=\"text-align: right;\">\n",
       "      <th>month</th>\n",
       "      <th>01</th>\n",
       "      <th>02</th>\n",
       "    </tr>\n",
       "    <tr>\n",
       "      <th>year</th>\n",
       "      <th></th>\n",
       "      <th></th>\n",
       "    </tr>\n",
       "  </thead>\n",
       "  <tbody>\n",
       "    <tr>\n",
       "      <th>2025</th>\n",
       "      <td>272</td>\n",
       "      <td>374</td>\n",
       "    </tr>\n",
       "  </tbody>\n",
       "</table>\n",
       "</div>"
      ],
      "text/plain": [
       "month   01   02\n",
       "year           \n",
       "2025   272  374"
      ]
     },
     "execution_count": 50,
     "metadata": {},
     "output_type": "execute_result"
    }
   ],
   "source": [
    "np.random.seed(8)\n",
    "df = pd.DataFrame({\n",
    "    'year_month': ['2025-01','2025-02','2025-01','2025-02'],\n",
    "    'sales': np.random.randint(100,200,4)\n",
    "})\n",
    "df[[\"year\", \"month\"]] = df[\"year_month\"].str.split(\"-\", expand=True)\n",
    "df=df.pivot_table(index=\"year\", columns=\"month\", values=\"sales\", aggfunc=sum)\n",
    "df\n",
    "\n"
   ]
  },
  {
   "cell_type": "markdown",
   "id": "3762a02d",
   "metadata": {},
   "source": [
    "<details><summary><strong>Show Solution</strong></summary>\n",
    "\n",
    "```python\n",
    "df[['year','month']] = df['year_month'].str.split('-', expand=True)\n",
    "df.pivot_table(index='year', columns='month', values='sales', aggfunc='sum')\n",
    "```\n",
    "\n",
    "</details>"
   ]
  },
  {
   "cell_type": "markdown",
   "id": "8e6cbdc6",
   "metadata": {},
   "source": [
    "## Question 10 — Trim Whitespace Categories"
   ]
  },
  {
   "cell_type": "markdown",
   "id": "b0d5b4d3",
   "metadata": {},
   "source": [
    "Strip whitespace in 'team ' column, then average score per team."
   ]
  },
  {
   "cell_type": "code",
   "execution_count": 54,
   "id": "f17e0bfd",
   "metadata": {},
   "outputs": [
    {
     "data": {
      "text/html": [
       "<div>\n",
       "<style scoped>\n",
       "    .dataframe tbody tr th:only-of-type {\n",
       "        vertical-align: middle;\n",
       "    }\n",
       "\n",
       "    .dataframe tbody tr th {\n",
       "        vertical-align: top;\n",
       "    }\n",
       "\n",
       "    .dataframe thead th {\n",
       "        text-align: right;\n",
       "    }\n",
       "</style>\n",
       "<table border=\"1\" class=\"dataframe\">\n",
       "  <thead>\n",
       "    <tr style=\"text-align: right;\">\n",
       "      <th></th>\n",
       "      <th>team</th>\n",
       "      <th>score</th>\n",
       "    </tr>\n",
       "  </thead>\n",
       "  <tbody>\n",
       "    <tr>\n",
       "      <th>0</th>\n",
       "      <td>Red</td>\n",
       "      <td>11</td>\n",
       "    </tr>\n",
       "    <tr>\n",
       "      <th>1</th>\n",
       "      <td>Blue</td>\n",
       "      <td>18</td>\n",
       "    </tr>\n",
       "    <tr>\n",
       "      <th>2</th>\n",
       "      <td>Red</td>\n",
       "      <td>27</td>\n",
       "    </tr>\n",
       "    <tr>\n",
       "      <th>3</th>\n",
       "      <td>Blue</td>\n",
       "      <td>11</td>\n",
       "    </tr>\n",
       "  </tbody>\n",
       "</table>\n",
       "</div>"
      ],
      "text/plain": [
       "  team   score\n",
       "0   Red     11\n",
       "1  Blue     18\n",
       "2   Red     27\n",
       "3  Blue     11"
      ]
     },
     "execution_count": 54,
     "metadata": {},
     "output_type": "execute_result"
    }
   ],
   "source": [
    "np.random.seed(9)\n",
    "df = pd.DataFrame({\n",
    "    'team ': [' Red','Blue ',' Red','Blue '],\n",
    "    'score': np.random.randint(10,30,4)\n",
    "})\n",
    "df[\"team \"] = df[\"team \"].str.strip()\n",
    "df\n"
   ]
  },
  {
   "cell_type": "markdown",
   "id": "d01071b5",
   "metadata": {},
   "source": [
    "<details><summary><strong>Show Solution</strong></summary>\n",
    "\n",
    "```python\n",
    "df['team '] = df['team '].str.strip()\n",
    "df.pivot_table(index='team ', values='score', aggfunc='mean')\n",
    "```\n",
    "\n",
    "</details>"
   ]
  },
  {
   "cell_type": "markdown",
   "id": "ec46e78d",
   "metadata": {},
   "source": [
    "## Question 11 — Duplicate Keys Needing Aggregation"
   ]
  },
  {
   "cell_type": "markdown",
   "id": "e250f437",
   "metadata": {},
   "source": [
    "Create a pivot table of **total revenue** per date with products as columns."
   ]
  },
  {
   "cell_type": "code",
   "execution_count": 56,
   "id": "4361cf1d",
   "metadata": {},
   "outputs": [
    {
     "name": "stderr",
     "output_type": "stream",
     "text": [
      "C:\\Users\\dasha\\AppData\\Local\\Temp\\ipykernel_41744\\2945298089.py:7: FutureWarning: The provided callable <built-in function sum> is currently using DataFrameGroupBy.sum. In a future version of pandas, the provided callable will be used directly. To keep current behavior pass the string \"sum\" instead.\n",
      "  df_pivoted = df.pivot_table(index=\"date\", columns=\"product\", values=\"revenue\", aggfunc=sum)\n"
     ]
    },
    {
     "data": {
      "text/html": [
       "<div>\n",
       "<style scoped>\n",
       "    .dataframe tbody tr th:only-of-type {\n",
       "        vertical-align: middle;\n",
       "    }\n",
       "\n",
       "    .dataframe tbody tr th {\n",
       "        vertical-align: top;\n",
       "    }\n",
       "\n",
       "    .dataframe thead th {\n",
       "        text-align: right;\n",
       "    }\n",
       "</style>\n",
       "<table border=\"1\" class=\"dataframe\">\n",
       "  <thead>\n",
       "    <tr style=\"text-align: right;\">\n",
       "      <th>product</th>\n",
       "      <th>A</th>\n",
       "      <th>B</th>\n",
       "    </tr>\n",
       "    <tr>\n",
       "      <th>date</th>\n",
       "      <th></th>\n",
       "      <th></th>\n",
       "    </tr>\n",
       "  </thead>\n",
       "  <tbody>\n",
       "    <tr>\n",
       "      <th>2025-01-01</th>\n",
       "      <td>59</td>\n",
       "      <td>65</td>\n",
       "    </tr>\n",
       "    <tr>\n",
       "      <th>2025-01-02</th>\n",
       "      <td>114</td>\n",
       "      <td>78</td>\n",
       "    </tr>\n",
       "    <tr>\n",
       "      <th>2025-01-03</th>\n",
       "      <td>139</td>\n",
       "      <td>143</td>\n",
       "    </tr>\n",
       "    <tr>\n",
       "      <th>2025-01-04</th>\n",
       "      <td>79</td>\n",
       "      <td>58</td>\n",
       "    </tr>\n",
       "    <tr>\n",
       "      <th>2025-01-05</th>\n",
       "      <td>123</td>\n",
       "      <td>50</td>\n",
       "    </tr>\n",
       "    <tr>\n",
       "      <th>2025-01-06</th>\n",
       "      <td>90</td>\n",
       "      <td>86</td>\n",
       "    </tr>\n",
       "  </tbody>\n",
       "</table>\n",
       "</div>"
      ],
      "text/plain": [
       "product       A    B\n",
       "date                \n",
       "2025-01-01   59   65\n",
       "2025-01-02  114   78\n",
       "2025-01-03  139  143\n",
       "2025-01-04   79   58\n",
       "2025-01-05  123   50\n",
       "2025-01-06   90   86"
      ]
     },
     "execution_count": 56,
     "metadata": {},
     "output_type": "execute_result"
    }
   ],
   "source": [
    "np.random.seed(10)\n",
    "df = pd.DataFrame({\n",
    "    'date': pd.date_range('2025-01-01', periods=6, freq='D').repeat(2),\n",
    "    'product': ['A','B']*6,\n",
    "    'revenue': np.random.randint(50,150,12)\n",
    "})\n",
    "df_pivoted = df.pivot_table(index=\"date\", columns=\"product\", values=\"revenue\", aggfunc=sum)\n",
    "df_pivoted"
   ]
  },
  {
   "cell_type": "markdown",
   "id": "7fc22782",
   "metadata": {},
   "source": [
    "<details><summary><strong>Show Solution</strong></summary>\n",
    "\n",
    "```python\n",
    "df.pivot_table(index='date', columns='product', values='revenue', aggfunc='sum')\n",
    "```\n",
    "\n",
    "</details>"
   ]
  },
  {
   "cell_type": "markdown",
   "id": "2b9c23b9",
   "metadata": {},
   "source": [
    "## Question 12 — Mean & Std in Same Pivot"
   ]
  },
  {
   "cell_type": "markdown",
   "id": "cbe7bd1b",
   "metadata": {},
   "source": [
    "Produce pivot with both mean and std of measure for each group."
   ]
  },
  {
   "cell_type": "code",
   "execution_count": 62,
   "id": "0d648fea",
   "metadata": {},
   "outputs": [
    {
     "data": {
      "text/html": [
       "<div>\n",
       "<style scoped>\n",
       "    .dataframe tbody tr th:only-of-type {\n",
       "        vertical-align: middle;\n",
       "    }\n",
       "\n",
       "    .dataframe tbody tr th {\n",
       "        vertical-align: top;\n",
       "    }\n",
       "\n",
       "    .dataframe thead tr th {\n",
       "        text-align: left;\n",
       "    }\n",
       "\n",
       "    .dataframe thead tr:last-of-type th {\n",
       "        text-align: right;\n",
       "    }\n",
       "</style>\n",
       "<table border=\"1\" class=\"dataframe\">\n",
       "  <thead>\n",
       "    <tr>\n",
       "      <th></th>\n",
       "      <th>mean</th>\n",
       "      <th>std</th>\n",
       "    </tr>\n",
       "    <tr>\n",
       "      <th></th>\n",
       "      <th>measure</th>\n",
       "      <th>measure</th>\n",
       "    </tr>\n",
       "    <tr>\n",
       "      <th>group</th>\n",
       "      <th></th>\n",
       "      <th></th>\n",
       "    </tr>\n",
       "  </thead>\n",
       "  <tbody>\n",
       "    <tr>\n",
       "      <th>G1</th>\n",
       "      <td>-0.254744</td>\n",
       "      <td>0.951633</td>\n",
       "    </tr>\n",
       "    <tr>\n",
       "      <th>G2</th>\n",
       "      <td>-0.050687</td>\n",
       "      <td>0.760760</td>\n",
       "    </tr>\n",
       "  </tbody>\n",
       "</table>\n",
       "</div>"
      ],
      "text/plain": [
       "           mean       std\n",
       "        measure   measure\n",
       "group                    \n",
       "G1    -0.254744  0.951633\n",
       "G2    -0.050687  0.760760"
      ]
     },
     "execution_count": 62,
     "metadata": {},
     "output_type": "execute_result"
    }
   ],
   "source": [
    "np.random.seed(11)\n",
    "df = pd.DataFrame({\n",
    "    'group': np.random.choice(['G1','G2'], 30),\n",
    "    'measure': np.random.normal(0,1,30)\n",
    "})\n",
    "\"\"\"df_pivoted_1 = df.pivot_table(index=\"group\", values=\"measure\", aggfunc=\"mean\")\n",
    "df_pivoted_2 = df.pivot_table(index=\"group\", values=\"measure\", aggfunc=\"std\")\n",
    "df_pivoted = pd.merge(df_pivoted_1, df_pivoted_2,on=\"group\", how=\"left\")\"\"\"\n",
    "df_pivoted = df.pivot_table(index=\"group\", values=\"measure\", aggfunc=[\"mean\", \"std\"])\n",
    "df_pivoted\n"
   ]
  },
  {
   "cell_type": "markdown",
   "id": "723379f3",
   "metadata": {},
   "source": [
    "<details><summary><strong>Show Solution</strong></summary>\n",
    "\n",
    "```python\n",
    "df.pivot_table(index='group', values='measure', aggfunc=['mean','std'])\n",
    "```\n",
    "\n",
    "</details>"
   ]
  },
  {
   "cell_type": "markdown",
   "id": "19a3a388",
   "metadata": {},
   "source": [
    "## Question 13 — Remove Duplicates Before Pivot"
   ]
  },
  {
   "cell_type": "markdown",
   "id": "347500fc",
   "metadata": {},
   "source": [
    "Keep only the latest status per id (keep first occurrence), then pivot status as columns and value as values."
   ]
  },
  {
   "cell_type": "code",
   "execution_count": 67,
   "id": "542adb83",
   "metadata": {},
   "outputs": [
    {
     "data": {
      "text/html": [
       "<div>\n",
       "<style scoped>\n",
       "    .dataframe tbody tr th:only-of-type {\n",
       "        vertical-align: middle;\n",
       "    }\n",
       "\n",
       "    .dataframe tbody tr th {\n",
       "        vertical-align: top;\n",
       "    }\n",
       "\n",
       "    .dataframe thead th {\n",
       "        text-align: right;\n",
       "    }\n",
       "</style>\n",
       "<table border=\"1\" class=\"dataframe\">\n",
       "  <thead>\n",
       "    <tr style=\"text-align: right;\">\n",
       "      <th></th>\n",
       "      <th>id</th>\n",
       "      <th>status</th>\n",
       "      <th>value</th>\n",
       "    </tr>\n",
       "  </thead>\n",
       "  <tbody>\n",
       "    <tr>\n",
       "      <th>0</th>\n",
       "      <td>1</td>\n",
       "      <td>new</td>\n",
       "      <td>76</td>\n",
       "    </tr>\n",
       "    <tr>\n",
       "      <th>1</th>\n",
       "      <td>3</td>\n",
       "      <td>new</td>\n",
       "      <td>7</td>\n",
       "    </tr>\n",
       "    <tr>\n",
       "      <th>2</th>\n",
       "      <td>5</td>\n",
       "      <td>new</td>\n",
       "      <td>4</td>\n",
       "    </tr>\n",
       "    <tr>\n",
       "      <th>3</th>\n",
       "      <td>2</td>\n",
       "      <td>new</td>\n",
       "      <td>77</td>\n",
       "    </tr>\n",
       "    <tr>\n",
       "      <th>4</th>\n",
       "      <td>4</td>\n",
       "      <td>new</td>\n",
       "      <td>23</td>\n",
       "    </tr>\n",
       "  </tbody>\n",
       "</table>\n",
       "</div>"
      ],
      "text/plain": [
       "   id status  value\n",
       "0   1    new     76\n",
       "1   3    new      7\n",
       "2   5    new      4\n",
       "3   2    new     77\n",
       "4   4    new     23"
      ]
     },
     "execution_count": 67,
     "metadata": {},
     "output_type": "execute_result"
    }
   ],
   "source": [
    "np.random.seed(12)\n",
    "df = pd.DataFrame({\n",
    "    'id': np.r_[np.arange(1,6), np.arange(1,6)],\n",
    "    'status': ['new','old']*5,\n",
    "    'value': np.random.randint(1,100,10)\n",
    "})\n",
    "df = df.drop(df[df['status'] == \"old\"].index)\n",
    "df=df.reset_index(drop=True)\n",
    "df"
   ]
  },
  {
   "cell_type": "markdown",
   "id": "6657f0f0",
   "metadata": {},
   "source": [
    "<details><summary><strong>Show Solution</strong></summary>\n",
    "\n",
    "```python\n",
    "latest = df.drop_duplicates('id', keep='first')\n",
    "latest.pivot(index='id', columns='status', values='value')\n",
    "```\n",
    "\n",
    "</details>"
   ]
  },
  {
   "cell_type": "markdown",
   "id": "7e3a6000",
   "metadata": {},
   "source": [
    "## Question 14 — Monthly Sales Trend"
   ]
  },
  {
   "cell_type": "markdown",
   "id": "a72b0d8e",
   "metadata": {},
   "source": [
    "Convert 'date' to datetime, extract month, then sum sales per month."
   ]
  },
  {
   "cell_type": "code",
   "execution_count": 70,
   "id": "b787411e",
   "metadata": {},
   "outputs": [
    {
     "name": "stderr",
     "output_type": "stream",
     "text": [
      "C:\\Users\\dasha\\AppData\\Local\\Temp\\ipykernel_41744\\1132484098.py:8: FutureWarning: The provided callable <built-in function sum> is currently using DataFrameGroupBy.sum. In a future version of pandas, the provided callable will be used directly. To keep current behavior pass the string \"sum\" instead.\n",
      "  df= pd.pivot_table(df,index=\"month\", values=\"sales\", aggfunc=sum)\n"
     ]
    },
    {
     "data": {
      "text/html": [
       "<div>\n",
       "<style scoped>\n",
       "    .dataframe tbody tr th:only-of-type {\n",
       "        vertical-align: middle;\n",
       "    }\n",
       "\n",
       "    .dataframe tbody tr th {\n",
       "        vertical-align: top;\n",
       "    }\n",
       "\n",
       "    .dataframe thead th {\n",
       "        text-align: right;\n",
       "    }\n",
       "</style>\n",
       "<table border=\"1\" class=\"dataframe\">\n",
       "  <thead>\n",
       "    <tr style=\"text-align: right;\">\n",
       "      <th></th>\n",
       "      <th>sales</th>\n",
       "    </tr>\n",
       "    <tr>\n",
       "      <th>month</th>\n",
       "      <th></th>\n",
       "    </tr>\n",
       "  </thead>\n",
       "  <tbody>\n",
       "    <tr>\n",
       "      <th>2025-01</th>\n",
       "      <td>1171</td>\n",
       "    </tr>\n",
       "    <tr>\n",
       "      <th>2025-02</th>\n",
       "      <td>547</td>\n",
       "    </tr>\n",
       "    <tr>\n",
       "      <th>2025-03</th>\n",
       "      <td>900</td>\n",
       "    </tr>\n",
       "    <tr>\n",
       "      <th>2025-04</th>\n",
       "      <td>469</td>\n",
       "    </tr>\n",
       "    <tr>\n",
       "      <th>2025-05</th>\n",
       "      <td>1115</td>\n",
       "    </tr>\n",
       "    <tr>\n",
       "      <th>2025-06</th>\n",
       "      <td>1121</td>\n",
       "    </tr>\n",
       "  </tbody>\n",
       "</table>\n",
       "</div>"
      ],
      "text/plain": [
       "         sales\n",
       "month         \n",
       "2025-01   1171\n",
       "2025-02    547\n",
       "2025-03    900\n",
       "2025-04    469\n",
       "2025-05   1115\n",
       "2025-06   1121"
      ]
     },
     "execution_count": 70,
     "metadata": {},
     "output_type": "execute_result"
    }
   ],
   "source": [
    "np.random.seed(13)\n",
    "dates = pd.date_range('2025-01-01','2025-06-30', freq='D')\n",
    "df = pd.DataFrame({\n",
    "    'date': np.random.choice(dates, 100),\n",
    "    'sales': np.random.randint(20,80,100)\n",
    "})\n",
    "df[\"month\"] = pd.to_datetime(df[\"date\"]).dt.to_period(\"M\")\n",
    "df= pd.pivot_table(df,index=\"month\", values=\"sales\", aggfunc=sum)\n",
    "df"
   ]
  },
  {
   "cell_type": "markdown",
   "id": "28d61cf7",
   "metadata": {},
   "source": [
    "<details><summary><strong>Show Solution</strong></summary>\n",
    "\n",
    "```python\n",
    "df['month'] = pd.to_datetime(df['date']).dt.to_period('M')\n",
    "df.pivot_table(index='month', values='sales', aggfunc='sum')\n",
    "```\n",
    "\n",
    "</details>"
   ]
  },
  {
   "cell_type": "markdown",
   "id": "377fae1f",
   "metadata": {},
   "source": [
    "## Question 15 — Sensor Readings Wide to Long"
   ]
  },
  {
   "cell_type": "markdown",
   "id": "f38b540a",
   "metadata": {},
   "source": [
    "Melt to long form with columns timestamp, sensor, reading."
   ]
  },
  {
   "cell_type": "code",
   "execution_count": 71,
   "id": "9c1b8e77",
   "metadata": {},
   "outputs": [
    {
     "data": {
      "text/html": [
       "<div>\n",
       "<style scoped>\n",
       "    .dataframe tbody tr th:only-of-type {\n",
       "        vertical-align: middle;\n",
       "    }\n",
       "\n",
       "    .dataframe tbody tr th {\n",
       "        vertical-align: top;\n",
       "    }\n",
       "\n",
       "    .dataframe thead th {\n",
       "        text-align: right;\n",
       "    }\n",
       "</style>\n",
       "<table border=\"1\" class=\"dataframe\">\n",
       "  <thead>\n",
       "    <tr style=\"text-align: right;\">\n",
       "      <th></th>\n",
       "      <th>timestamp</th>\n",
       "      <th>sensor</th>\n",
       "      <th>reading</th>\n",
       "    </tr>\n",
       "  </thead>\n",
       "  <tbody>\n",
       "    <tr>\n",
       "      <th>0</th>\n",
       "      <td>2025-07-15 00:00:00</td>\n",
       "      <td>sensorA</td>\n",
       "      <td>0.513943</td>\n",
       "    </tr>\n",
       "    <tr>\n",
       "      <th>1</th>\n",
       "      <td>2025-07-15 01:00:00</td>\n",
       "      <td>sensorA</td>\n",
       "      <td>0.773165</td>\n",
       "    </tr>\n",
       "    <tr>\n",
       "      <th>2</th>\n",
       "      <td>2025-07-15 02:00:00</td>\n",
       "      <td>sensorA</td>\n",
       "      <td>0.870428</td>\n",
       "    </tr>\n",
       "    <tr>\n",
       "      <th>3</th>\n",
       "      <td>2025-07-15 03:00:00</td>\n",
       "      <td>sensorA</td>\n",
       "      <td>0.008047</td>\n",
       "    </tr>\n",
       "    <tr>\n",
       "      <th>4</th>\n",
       "      <td>2025-07-15 04:00:00</td>\n",
       "      <td>sensorA</td>\n",
       "      <td>0.309736</td>\n",
       "    </tr>\n",
       "    <tr>\n",
       "      <th>5</th>\n",
       "      <td>2025-07-15 00:00:00</td>\n",
       "      <td>sensorB</td>\n",
       "      <td>0.957604</td>\n",
       "    </tr>\n",
       "    <tr>\n",
       "      <th>6</th>\n",
       "      <td>2025-07-15 01:00:00</td>\n",
       "      <td>sensorB</td>\n",
       "      <td>0.513117</td>\n",
       "    </tr>\n",
       "    <tr>\n",
       "      <th>7</th>\n",
       "      <td>2025-07-15 02:00:00</td>\n",
       "      <td>sensorB</td>\n",
       "      <td>0.318284</td>\n",
       "    </tr>\n",
       "    <tr>\n",
       "      <th>8</th>\n",
       "      <td>2025-07-15 03:00:00</td>\n",
       "      <td>sensorB</td>\n",
       "      <td>0.539200</td>\n",
       "    </tr>\n",
       "    <tr>\n",
       "      <th>9</th>\n",
       "      <td>2025-07-15 04:00:00</td>\n",
       "      <td>sensorB</td>\n",
       "      <td>0.221255</td>\n",
       "    </tr>\n",
       "  </tbody>\n",
       "</table>\n",
       "</div>"
      ],
      "text/plain": [
       "            timestamp   sensor   reading\n",
       "0 2025-07-15 00:00:00  sensorA  0.513943\n",
       "1 2025-07-15 01:00:00  sensorA  0.773165\n",
       "2 2025-07-15 02:00:00  sensorA  0.870428\n",
       "3 2025-07-15 03:00:00  sensorA  0.008047\n",
       "4 2025-07-15 04:00:00  sensorA  0.309736\n",
       "5 2025-07-15 00:00:00  sensorB  0.957604\n",
       "6 2025-07-15 01:00:00  sensorB  0.513117\n",
       "7 2025-07-15 02:00:00  sensorB  0.318284\n",
       "8 2025-07-15 03:00:00  sensorB  0.539200\n",
       "9 2025-07-15 04:00:00  sensorB  0.221255"
      ]
     },
     "execution_count": 71,
     "metadata": {},
     "output_type": "execute_result"
    }
   ],
   "source": [
    "np.random.seed(14)\n",
    "df = pd.DataFrame({\n",
    "    'timestamp': pd.date_range('2025-07-15 00:00', periods=5, freq='h'),\n",
    "    'sensorA': np.random.rand(5),\n",
    "    'sensorB': np.random.rand(5)\n",
    "})\n",
    "df=df.melt(id_vars=\"timestamp\", var_name=\"sensor\", value_name=\"reading\")\\\n",
    "\n",
    "df\n"
   ]
  },
  {
   "cell_type": "markdown",
   "id": "1acb9a93",
   "metadata": {},
   "source": [
    "<details><summary><strong>Show Solution</strong></summary>\n",
    "\n",
    "```python\n",
    "df_long = df.melt(id_vars='timestamp', var_name='sensor', value_name='reading')\n",
    "```\n",
    "\n",
    "</details>"
   ]
  },
  {
   "cell_type": "markdown",
   "id": "715071f8",
   "metadata": {},
   "source": [
    "## Question 16 — Compute Conversion Rate"
   ]
  },
  {
   "cell_type": "markdown",
   "id": "d692f2aa",
   "metadata": {},
   "source": [
    "Pivot to compute **conversion rate** (mean of converted) per campaign."
   ]
  },
  {
   "cell_type": "code",
   "execution_count": 72,
   "id": "3757bd81",
   "metadata": {},
   "outputs": [
    {
     "data": {
      "text/html": [
       "<div>\n",
       "<style scoped>\n",
       "    .dataframe tbody tr th:only-of-type {\n",
       "        vertical-align: middle;\n",
       "    }\n",
       "\n",
       "    .dataframe tbody tr th {\n",
       "        vertical-align: top;\n",
       "    }\n",
       "\n",
       "    .dataframe thead th {\n",
       "        text-align: right;\n",
       "    }\n",
       "</style>\n",
       "<table border=\"1\" class=\"dataframe\">\n",
       "  <thead>\n",
       "    <tr style=\"text-align: right;\">\n",
       "      <th></th>\n",
       "      <th>converted</th>\n",
       "    </tr>\n",
       "    <tr>\n",
       "      <th>campaign</th>\n",
       "      <th></th>\n",
       "    </tr>\n",
       "  </thead>\n",
       "  <tbody>\n",
       "    <tr>\n",
       "      <th>Ads</th>\n",
       "      <td>0.433333</td>\n",
       "    </tr>\n",
       "    <tr>\n",
       "      <th>Email</th>\n",
       "      <td>0.450000</td>\n",
       "    </tr>\n",
       "  </tbody>\n",
       "</table>\n",
       "</div>"
      ],
      "text/plain": [
       "          converted\n",
       "campaign           \n",
       "Ads        0.433333\n",
       "Email      0.450000"
      ]
     },
     "execution_count": 72,
     "metadata": {},
     "output_type": "execute_result"
    }
   ],
   "source": [
    "np.random.seed(15)\n",
    "df = pd.DataFrame({\n",
    "    'campaign': np.random.choice(['Email','Ads'], 50),\n",
    "    'converted': np.random.choice([0,1], 50)\n",
    "})\n",
    "df = df.pivot_table(index=\"campaign\", values=\"converted\", aggfunc=\"mean\")\n",
    "df\n"
   ]
  },
  {
   "cell_type": "markdown",
   "id": "0d1d919b",
   "metadata": {},
   "source": [
    "<details><summary><strong>Show Solution</strong></summary>\n",
    "\n",
    "```python\n",
    "df.pivot_table(index='campaign', values='converted', aggfunc='mean')\n",
    "```\n",
    "\n",
    "</details>"
   ]
  },
  {
   "cell_type": "markdown",
   "id": "f9d8c856",
   "metadata": {},
   "source": [
    "## Question 17 — Split Category/Subcategory"
   ]
  },
  {
   "cell_type": "markdown",
   "id": "a9642ebe",
   "metadata": {},
   "source": [
    "Separate cat_sub into cat and sub, then sum qty with cat rows and sub columns."
   ]
  },
  {
   "cell_type": "code",
   "execution_count": 75,
   "id": "4c29a0b2",
   "metadata": {},
   "outputs": [
    {
     "name": "stderr",
     "output_type": "stream",
     "text": [
      "C:\\Users\\dasha\\AppData\\Local\\Temp\\ipykernel_41744\\3143838705.py:7: FutureWarning: The provided callable <built-in function sum> is currently using DataFrameGroupBy.sum. In a future version of pandas, the provided callable will be used directly. To keep current behavior pass the string \"sum\" instead.\n",
      "  df = df.pivot_table(index=\"cat\",columns=\"sub\",values=\"qty\",aggfunc=sum)\n"
     ]
    },
    {
     "data": {
      "text/html": [
       "<div>\n",
       "<style scoped>\n",
       "    .dataframe tbody tr th:only-of-type {\n",
       "        vertical-align: middle;\n",
       "    }\n",
       "\n",
       "    .dataframe tbody tr th {\n",
       "        vertical-align: top;\n",
       "    }\n",
       "\n",
       "    .dataframe thead th {\n",
       "        text-align: right;\n",
       "    }\n",
       "</style>\n",
       "<table border=\"1\" class=\"dataframe\">\n",
       "  <thead>\n",
       "    <tr style=\"text-align: right;\">\n",
       "      <th>sub</th>\n",
       "      <th>X</th>\n",
       "      <th>Y</th>\n",
       "    </tr>\n",
       "    <tr>\n",
       "      <th>cat</th>\n",
       "      <th></th>\n",
       "      <th></th>\n",
       "    </tr>\n",
       "  </thead>\n",
       "  <tbody>\n",
       "    <tr>\n",
       "      <th>A</th>\n",
       "      <td>12</td>\n",
       "      <td>14</td>\n",
       "    </tr>\n",
       "    <tr>\n",
       "      <th>B</th>\n",
       "      <td>7</td>\n",
       "      <td>9</td>\n",
       "    </tr>\n",
       "  </tbody>\n",
       "</table>\n",
       "</div>"
      ],
      "text/plain": [
       "sub   X   Y\n",
       "cat        \n",
       "A    12  14\n",
       "B     7   9"
      ]
     },
     "execution_count": 75,
     "metadata": {},
     "output_type": "execute_result"
    }
   ],
   "source": [
    "np.random.seed(16)\n",
    "df = pd.DataFrame({\n",
    "    'cat_sub': ['A_X','A_Y','B_X','B_Y']*5,\n",
    "    'qty': np.random.randint(1,5,20)\n",
    "})\n",
    "df[[\"cat\",\"sub\"]] = df[\"cat_sub\"].str.split(\"_\",expand=True)\n",
    "df = df.pivot_table(index=\"cat\",columns=\"sub\",values=\"qty\",aggfunc=sum)\n",
    "df\n"
   ]
  },
  {
   "cell_type": "markdown",
   "id": "caf1aff0",
   "metadata": {},
   "source": [
    "<details><summary><strong>Show Solution</strong></summary>\n",
    "\n",
    "```python\n",
    "df[['cat','sub']] = df['cat_sub'].str.split('_', expand=True)\n",
    "df.pivot_table(index='cat', columns='sub', values='qty', aggfunc='sum')\n",
    "```\n",
    "\n",
    "</details>"
   ]
  },
  {
   "cell_type": "markdown",
   "id": "823825d2",
   "metadata": {},
   "source": [
    "## Question 18 — Ordered Categories in Pivot"
   ]
  },
  {
   "cell_type": "markdown",
   "id": "5e725c50",
   "metadata": {},
   "source": [
    "Set 'priority' as categorical ordered low<medium<high, then count tickets per priority (rows)."
   ]
  },
  {
   "cell_type": "code",
   "execution_count": 82,
   "id": "48b24bdb",
   "metadata": {},
   "outputs": [
    {
     "name": "stderr",
     "output_type": "stream",
     "text": [
      "C:\\Users\\dasha\\AppData\\Local\\Temp\\ipykernel_41744\\514041548.py:6: FutureWarning: The provided callable <built-in function sum> is currently using DataFrameGroupBy.sum. In a future version of pandas, the provided callable will be used directly. To keep current behavior pass the string \"sum\" instead.\n",
      "  df = df.pivot_table(index=\"priority\",values=\"tickets\",aggfunc=sum)\n"
     ]
    },
    {
     "data": {
      "text/html": [
       "<div>\n",
       "<style scoped>\n",
       "    .dataframe tbody tr th:only-of-type {\n",
       "        vertical-align: middle;\n",
       "    }\n",
       "\n",
       "    .dataframe tbody tr th {\n",
       "        vertical-align: top;\n",
       "    }\n",
       "\n",
       "    .dataframe thead th {\n",
       "        text-align: right;\n",
       "    }\n",
       "</style>\n",
       "<table border=\"1\" class=\"dataframe\">\n",
       "  <thead>\n",
       "    <tr style=\"text-align: right;\">\n",
       "      <th></th>\n",
       "      <th>tickets</th>\n",
       "    </tr>\n",
       "    <tr>\n",
       "      <th>priority</th>\n",
       "      <th></th>\n",
       "    </tr>\n",
       "  </thead>\n",
       "  <tbody>\n",
       "    <tr>\n",
       "      <th>high</th>\n",
       "      <td>10</td>\n",
       "    </tr>\n",
       "    <tr>\n",
       "      <th>medium</th>\n",
       "      <td>14</td>\n",
       "    </tr>\n",
       "    <tr>\n",
       "      <th>low</th>\n",
       "      <td>6</td>\n",
       "    </tr>\n",
       "  </tbody>\n",
       "</table>\n",
       "</div>"
      ],
      "text/plain": [
       "          tickets\n",
       "priority         \n",
       "high           10\n",
       "medium         14\n",
       "low             6"
      ]
     },
     "execution_count": 82,
     "metadata": {},
     "output_type": "execute_result"
    }
   ],
   "source": [
    "np.random.seed(17)\n",
    "df = pd.DataFrame({\n",
    "    'priority': np.random.choice(['low','medium','high'], 30),\n",
    "    'tickets': 1\n",
    "})\n",
    "df = df.pivot_table(index=\"priority\",values=\"tickets\",aggfunc=sum)\n",
    "df=df.reset_index()\n",
    "priority_order = ['high', 'medium', 'low']\n",
    "df['priority'] = pd.Categorical(df['priority'], categories=priority_order, ordered=True)\n",
    "df_sorted = df.sort_values(by='priority', ascending=True)\n",
    "df_sorted.set_index('priority', inplace=True)\n",
    "df_sorted\n"
   ]
  },
  {
   "cell_type": "markdown",
   "id": "39d15fcc",
   "metadata": {},
   "source": [
    "<details><summary><strong>Show Solution</strong></summary>\n",
    "\n",
    "```python\n",
    "df['priority'] = pd.Categorical(df['priority'], categories=['low','medium','high'], ordered=True)\n",
    "df.pivot_table(index='priority', values='tickets', aggfunc='count').sort_index()\n",
    "```\n",
    "\n",
    "</details>"
   ]
  },
  {
   "cell_type": "markdown",
   "id": "442b8c10",
   "metadata": {},
   "source": [
    "## Question 19 — Value Vars Melt Then Pivot"
   ]
  },
  {
   "cell_type": "markdown",
   "id": "b6d196d0",
   "metadata": {},
   "source": [
    "Melt height and weight into long, then compute average of each measure."
   ]
  },
  {
   "cell_type": "code",
   "execution_count": 84,
   "id": "2dfeb1c3",
   "metadata": {},
   "outputs": [
    {
     "data": {
      "text/html": [
       "<div>\n",
       "<style scoped>\n",
       "    .dataframe tbody tr th:only-of-type {\n",
       "        vertical-align: middle;\n",
       "    }\n",
       "\n",
       "    .dataframe tbody tr th {\n",
       "        vertical-align: top;\n",
       "    }\n",
       "\n",
       "    .dataframe thead th {\n",
       "        text-align: right;\n",
       "    }\n",
       "</style>\n",
       "<table border=\"1\" class=\"dataframe\">\n",
       "  <thead>\n",
       "    <tr style=\"text-align: right;\">\n",
       "      <th></th>\n",
       "      <th>value</th>\n",
       "    </tr>\n",
       "    <tr>\n",
       "      <th>measure</th>\n",
       "      <th></th>\n",
       "    </tr>\n",
       "  </thead>\n",
       "  <tbody>\n",
       "    <tr>\n",
       "      <th>height_cm</th>\n",
       "      <td>161.6</td>\n",
       "    </tr>\n",
       "    <tr>\n",
       "      <th>weight_kg</th>\n",
       "      <td>67.4</td>\n",
       "    </tr>\n",
       "  </tbody>\n",
       "</table>\n",
       "</div>"
      ],
      "text/plain": [
       "           value\n",
       "measure         \n",
       "height_cm  161.6\n",
       "weight_kg   67.4"
      ]
     },
     "execution_count": 84,
     "metadata": {},
     "output_type": "execute_result"
    }
   ],
   "source": [
    "np.random.seed(18)\n",
    "df = pd.DataFrame({\n",
    "    'id': range(1,6),\n",
    "    'height_cm': np.random.randint(150,190,5),\n",
    "    'weight_kg': np.random.randint(50,90,5)\n",
    "})\n",
    "df=df.melt(id_vars=\"id\",var_name=\"measure\",value_name=\"value\")\n",
    "df=df.pivot_table(index=\"measure\",values=\"value\",aggfunc=\"mean\")\n",
    "df\n"
   ]
  },
  {
   "cell_type": "markdown",
   "id": "4524b520",
   "metadata": {},
   "source": [
    "<details><summary><strong>Show Solution</strong></summary>\n",
    "\n",
    "```python\n",
    "long = df.melt(id_vars='id', var_name='measure', value_name='value')\n",
    "long.pivot_table(index='measure', values='value', aggfunc='mean')\n",
    "```\n",
    "\n",
    "</details>"
   ]
  },
  {
   "cell_type": "markdown",
   "id": "42b730a8",
   "metadata": {},
   "source": [
    "## Question 20 — Outlier Filter Then Multi‑Metric Pivot"
   ]
  },
  {
   "cell_type": "markdown",
   "id": "cf4b263d",
   "metadata": {},
   "source": [
    "Filter out profits > 180, then compute mean & std profit per branch."
   ]
  },
  {
   "cell_type": "code",
   "execution_count": 88,
   "id": "c3776102",
   "metadata": {},
   "outputs": [
    {
     "data": {
      "text/html": [
       "<div>\n",
       "<style scoped>\n",
       "    .dataframe tbody tr th:only-of-type {\n",
       "        vertical-align: middle;\n",
       "    }\n",
       "\n",
       "    .dataframe tbody tr th {\n",
       "        vertical-align: top;\n",
       "    }\n",
       "\n",
       "    .dataframe thead tr th {\n",
       "        text-align: left;\n",
       "    }\n",
       "\n",
       "    .dataframe thead tr:last-of-type th {\n",
       "        text-align: right;\n",
       "    }\n",
       "</style>\n",
       "<table border=\"1\" class=\"dataframe\">\n",
       "  <thead>\n",
       "    <tr>\n",
       "      <th></th>\n",
       "      <th>mean</th>\n",
       "      <th>std</th>\n",
       "    </tr>\n",
       "    <tr>\n",
       "      <th></th>\n",
       "      <th>profit</th>\n",
       "      <th>profit</th>\n",
       "    </tr>\n",
       "    <tr>\n",
       "      <th>branch</th>\n",
       "      <th></th>\n",
       "      <th></th>\n",
       "    </tr>\n",
       "  </thead>\n",
       "  <tbody>\n",
       "    <tr>\n",
       "      <th>East</th>\n",
       "      <td>94.978139</td>\n",
       "      <td>16.599105</td>\n",
       "    </tr>\n",
       "    <tr>\n",
       "      <th>West</th>\n",
       "      <td>99.304872</td>\n",
       "      <td>18.515838</td>\n",
       "    </tr>\n",
       "  </tbody>\n",
       "</table>\n",
       "</div>"
      ],
      "text/plain": [
       "             mean        std\n",
       "           profit     profit\n",
       "branch                      \n",
       "East    94.978139  16.599105\n",
       "West    99.304872  18.515838"
      ]
     },
     "execution_count": 88,
     "metadata": {},
     "output_type": "execute_result"
    }
   ],
   "source": [
    "np.random.seed(19)\n",
    "df = pd.DataFrame({\n",
    "    'branch': np.random.choice(['East','West'], 100),\n",
    "    'profit': np.random.normal(100,20,100)\n",
    "})\n",
    "# add outliers\n",
    "df.loc[np.random.choice(df.index, 5, replace=False),'profit'] += 200\n",
    "df = df.drop(df[df['profit'] > 180].index)\n",
    "df = df.reset_index(drop=True)\n",
    "df = df.pivot_table(index=\"branch\",values=\"profit\",aggfunc=[\"mean\",\"std\"])\n",
    "df"
   ]
  },
  {
   "cell_type": "markdown",
   "id": "76266975",
   "metadata": {},
   "source": [
    "<details><summary><strong>Show Solution</strong></summary>\n",
    "\n",
    "```python\n",
    "clean = df[df['profit']<=180]\n",
    "clean.pivot_table(index='branch', values='profit', aggfunc=['mean','std'])\n",
    "```\n",
    "\n",
    "</details>"
   ]
  },
  {
   "cell_type": "markdown",
   "id": "21b5c20e",
   "metadata": {},
   "source": [
    "## Question 21: End‑to‑End Tidy Data & Exploratory Analysis\n",
    "\n",
    "**Objective:**  \n",
    "Practice the full workflow of acquiring real data, cleaning it into tidy form, performing exploratory visualizations, and communicating your first impressions.\n",
    "\n",
    "---\n",
    "\n",
    "### 1. Data Acquisition\n",
    "\n",
    "1. **Choose a dataset**  \n",
    "   - Find any publicly‑available CSV file online (e.g. Kaggle, UCI Machine Learning Repository, data.gov).  \n",
    "2. **Download the file**  \n",
    "   - Save it into your project folder as `data/your_dataset.csv`.  \n",
    "   - Note the source URL and a brief description (what it measures, number of rows, columns).\n",
    "\n",
    "---\n",
    "\n",
    "### 2. Loading & Initial Inspection\n",
    "\n",
    "1. **Import pandas**  \n",
    "   - import pandas as pd  \n",
    "2. **Read the CSV**  \n",
    "   - df = pd.read_csv(\"data/your_dataset.csv\")  \n",
    "3. **Peek at the data**  \n",
    "   - df.head()  \n",
    "   - df.info()  \n",
    "   - df.describe()\n",
    "\n",
    "---\n",
    "\n",
    "### 3. Tidying the Data\n",
    "\n",
    "Follow the tidy‑data principles: one variable per column, one observation per row, one value per cell.\n",
    "\n",
    "1. **Identify issues**  \n",
    "   - Are there multiple measures in one column?  \n",
    "   - Are columns encoding two variables (e.g. `2019_sales` and `2020_sales`)?  \n",
    "   - Are any column names unclear or inconsistent?  \n",
    "2. **Reshape as needed**  \n",
    "   - Melt wide → long: df_long = df.melt(id_vars=[…], var_name=\"variable\", value_name=\"value\")  \n",
    "   - Pivot long → wide: df_wide = df_long.pivot(index=[…], columns=\"variable\", values=\"value\")  \n",
    "3. **Rename & convert**  \n",
    "   - Standardize column names.  \n",
    "   - Convert data types: df[\"date\"] = pd.to_datetime(df[\"date\"]), df[\"category\"] = df[\"category\"].astype(\"category\")  \n",
    "4. **Handle missing or duplicate data**  \n",
    "   - Drop or impute missing values as appropriate.  \n",
    "   - Remove exact duplicate rows: df = df.drop_duplicates()\n",
    "\n",
    "---\n",
    "\n",
    "### 4. Exploratory Data Analysis (EDA)\n",
    "\n",
    "Create at least **three** different plots to understand structure or patterns. Examples:\n",
    "\n",
    "- **Univariate distribution:** histogram or density plot of a numeric variable  \n",
    "- **Bivariate relationship:** scatterplot of two continuous variables; boxplot or violin plot grouped by category  \n",
    "- **Time series or trend:** line plot over time (if applicable)  \n",
    "- **Categorical counts (optional):** bar chart of categorical frequencies  \n",
    "\n",
    "Be sure to label axes, add titles, and choose sensible figure sizes.\n",
    "\n",
    "---\n",
    "\n",
    "### 5. Insights & Interpretation\n",
    "\n",
    "Write **1–2 clear sentences** describing the most interesting pattern(s).  \n",
    "Examples:  \n",
    "- “Sales peak in Q4 each year, suggesting a strong holiday effect.”  \n",
    "- “Advertising spend and website visits show a strong positive correlation (r ≈ 0.7).”\n",
    "\n",
    "\n",
    "Challenge: how can you ensure that any one is able to download this data and make sure they get the same exact answer as you?\n",
    "\n",
    "\n"
   ]
  }
 ],
 "metadata": {
  "kernelspec": {
   "display_name": "base",
   "language": "python",
   "name": "python3"
  },
  "language_info": {
   "codemirror_mode": {
    "name": "ipython",
    "version": 3
   },
   "file_extension": ".py",
   "mimetype": "text/x-python",
   "name": "python",
   "nbconvert_exporter": "python",
   "pygments_lexer": "ipython3",
   "version": "3.13.5"
  }
 },
 "nbformat": 4,
 "nbformat_minor": 5
}
